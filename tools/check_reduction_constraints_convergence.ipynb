{
 "cells": [
  {
   "cell_type": "code",
   "execution_count": null,
   "metadata": {},
   "outputs": [],
   "source": [
    "using HDF5\n",
    "using LaTeXStrings\n",
    "using Plots; pythonplot()\n",
    "using DelimitedFiles\n",
    "using SpheriCo"
   ]
  },
  {
   "cell_type": "code",
   "execution_count": null,
   "metadata": {},
   "outputs": [],
   "source": [
    "# give the directory where the data from all the runs are saved\n",
    "dir = \"../examples/classical_runs/\"\n",
    "par = \"rmax30_cfl0.125_sigma0.0_damping_0_amp1.0_width2.0_rc5.0_infalling_rmax_false_rand_true\"\n",
    "your_dir = dir*par\n",
    "\n",
    "# not automated the one below\n",
    "#class = \"strong\""
   ]
  },
  {
   "cell_type": "code",
   "execution_count": null,
   "metadata": {},
   "outputs": [],
   "source": [
    "#D = 3\n",
    "#out_dir = \"./convergence_plots/\"*par*\"/resol_D$(D)$(D+1)$(D+2)\"\n",
    "#if ispath(out_dir)==false\n",
    "#    mkpath(out_dir)\n",
    "#end"
   ]
  },
  {
   "cell_type": "code",
   "execution_count": null,
   "metadata": {},
   "outputs": [],
   "source": [
    "Nr = 128*2^D + 3 # the overal course graining\n",
    "n = 0\n",
    "\n",
    "# load the r grid\n",
    "r_c = h5read(your_dir*\"/data_$((Nr-3)*2^n+3)/r.h5\",\"r\")\n",
    "drc = r_c[2] - r_c[1]\n",
    "r_m = h5read(your_dir*\"/data_$((Nr-3)*2^(n+1)+3)/r.h5\",\"r\")\n",
    "r_f = h5read(your_dir*\"/data_$((Nr-3)*2^(n+2)+3)/r.h5\",\"r\")\n",
    "\n",
    "# list all available iterations (and corresponding files)\n",
    "(its_c, all_filenames_c) = list_h5_files(your_dir*\"/data_$((Nr-3)*2^n+3)\", prefix=\"data_\")\n",
    "(its_m, all_filenames_m) = list_h5_files(your_dir*\"/data_$((Nr-3)*2^(n+1)+3)\", prefix=\"data_\")\n",
    "(its_f, all_filenames_f) = list_h5_files(your_dir*\"/data_$((Nr-3)*2^(n+2)+3)\", prefix=\"data_\")\n",
    "\n",
    "# lists used in checking if the projection on the coarse grid is done correctly\n",
    "#rm_c = zeros(length(rc));\n",
    "@assert r_c[3:end] ≈ r_m[3:2:end]\n",
    "@assert r_c[3:end] ≈ r_f[3:4:end]\n"
   ]
  },
  {
   "cell_type": "code",
   "execution_count": null,
   "metadata": {},
   "outputs": [],
   "source": [
    "# get index of r_c in coarse resol, for which  r[index] is the first causally connected point\n",
    "it_c      = its_c[end]\n",
    "it_str_c  = lpad(it_c, 4, \"0\")\n",
    "tc_end    =  h5readattr(your_dir*\"/data_$((Nr-3)*2^n + 3)/data_$(it_str_c).h5\", \"/\")[\"time\"]\n",
    "r_c[end] - tc_end\n",
    "ri = 1\n",
    "i = 1\n",
    "while r_c[i] != r_c[end] - tc_end\n",
    "    i += 1\n",
    "end\n",
    "ri_max_causal = i-1\n",
    "drc = r_c[4] - r_c[3]\n",
    "r_c[ri_max_causal] == r_c[end] - tc_end - drc\n",
    "ri_max_causal"
   ]
  },
  {
   "cell_type": "code",
   "execution_count": null,
   "metadata": {},
   "outputs": [],
   "source": [
    "#choose the commmon timestep to do the comparison.\n",
    "#remember that its_c =its_m[1:2:end] = its_c[1:4:end]\n",
    "#it_c is the timestep of the coarse resolution    \n",
    "i = 15\n",
    "it_c = its_c[i]#[i] for when they are saved on common timesteps # otherwise [1+i]\n",
    "it_m = its_m[i] #[1+2*i]\n",
    "it_f = its_f[i] #[1+2*2*i]\n",
    "it_str_c  = lpad(it_c, 4, \"0\")\n",
    "it_str_m  = lpad(it_m, 4, \"0\")\n",
    "it_str_f  = lpad(it_f, 4, \"0\")\n",
    "\n",
    "# v_classic = [Φ, Π, Ψ, A, B, DB, Utld, K, KB, λ, α, Dα, Θ, Zr, f, g, U, V]^T\n",
    "v_classic_labels = [\"Φ\", \"Π\", \"Ψ\", \"A\", \"B\", \"DB\", \"Utld\", \"K\", \"KB\", \"λ\", \"α\", \"Dα\", \"Θ\", \"Zr\", \"f\", \"g\", \"U\", \"V\"]\n",
    "vc = h5read(your_dir*\"/data_$((Nr-3)*2^n + 3)/data_$(it_str_c).h5\",\"v\")\n",
    "vm = h5read(your_dir*\"/data_$((Nr-3)*2^(n+1) + 3)/data_$(it_str_m).h5\",\"v\")\n",
    "vf = h5read(your_dir*\"/data_$((Nr-3)*2^(n+2) + 3)/data_$(it_str_f).h5\",\"v\")\n",
    "\n",
    "tc = h5readattr(your_dir*\"/data_$((Nr-3)*2^n + 3)/data_$(it_str_c).h5\", \"/\")[\"time\"]\n",
    "tm = h5readattr(your_dir*\"/data_$((Nr-3)*2^(n+1) + 3)/data_$(it_str_m).h5\", \"/\")[\"time\"]\n",
    "tf = h5readattr(your_dir*\"/data_$((Nr-3)*2^(n+2) + 3)/data_$(it_str_f).h5\", \"/\")[\"time\"]\n",
    "\n",
    "Φc    = vc[:,1]\n",
    "Πc    = vc[:,2]\n",
    "Ψc    = vc[:,3]\n",
    "Ac    = vc[:,4]\n",
    "Bc    = vc[:,5]\n",
    "DBc   = vc[:,6]\n",
    "Utldc = vc[:,7]\n",
    "Kc    = vc[:,8]\n",
    "KBc   = vc[:,9]\n",
    "λc    = vc[:,10]\n",
    "αc    = vc[:,11]\n",
    "Dαc   = vc[:,12]\n",
    "\n",
    "Φm    = vm[:,1]\n",
    "Πm    = vm[:,2]\n",
    "Ψm    = vm[:,3]\n",
    "Am    = vm[:,4]\n",
    "Bm    = vm[:,5]\n",
    "DBm   = vm[:,6]\n",
    "Utldm = vm[:,7]\n",
    "Km    = vm[:,8]\n",
    "KBm   = vm[:,9]\n",
    "λm    = vm[:,10]\n",
    "αm    = vm[:,11]\n",
    "Dαm   = vm[:,12]\n",
    "\n",
    "Φf    = vf[:,1]\n",
    "Πf    = vf[:,2]\n",
    "Ψf    = vf[:,3]\n",
    "Af    = vf[:,4]\n",
    "Bf    = vf[:,5]\n",
    "DBf   = vf[:,6]\n",
    "Utldf = vf[:,7]\n",
    "Kf    = vf[:,8]\n",
    "KBf   = vf[:,9]\n",
    "λf    = vf[:,10]\n",
    "αf    = vf[:,11]\n",
    "Dαf   = vf[:,12]\n",
    "\n",
    "# make sure we're comparing the same timestep\n",
    "@assert tc ≈ tm\n",
    "@assert tc ≈ tf"
   ]
  },
  {
   "cell_type": "code",
   "execution_count": null,
   "metadata": {},
   "outputs": [],
   "source": [
    "function reconstruct_Df(r::Array, f::Array)\n",
    "    dr = r[4] - r[3]\n",
    "    Df = Dr_FD2(f,dr)./f\n",
    "    return Df\n",
    "end"
   ]
  },
  {
   "cell_type": "code",
   "execution_count": null,
   "metadata": {},
   "outputs": [],
   "source": [
    "rec_DAc = reconstruct_Df(r_c, Ac);\n",
    "rec_DAm = reconstruct_Df(r_m, Am);\n",
    "rec_DAf = reconstruct_Df(r_f, Af);\n",
    "\n",
    "rec_DBc = reconstruct_Df(r_c, Bc);\n",
    "rec_DBm = reconstruct_Df(r_m, Bm);\n",
    "rec_DBf = reconstruct_Df(r_f, Bf);\n",
    "\n",
    "rec_Utldc = @. rec_DAc - 2.0*rec_DBc - 4.0*Bc*λc/Ac\n",
    "rec_Utldm = @. rec_DAm - 2.0*rec_DBm - 4.0*Bm*λm/Am\n",
    "rec_Utldf = @. rec_DAf - 2.0*rec_DBf - 4.0*Bf*λf/Af\n",
    "\n",
    "rec_Dαc = reconstruct_Df(r_c, αc);\n",
    "rec_Dαm = reconstruct_Df(r_m, αm);\n",
    "rec_Dαf = reconstruct_Df(r_f, αf);"
   ]
  },
  {
   "cell_type": "code",
   "execution_count": null,
   "metadata": {},
   "outputs": [],
   "source": [
    "AH = find_AH(r_c, Bc, Ac, KBc)\n",
    "println(\"r_AH = \", AH)\n",
    "\n",
    "plot(r_c, DBc, title = \"t=$(tc)\",  label=\"DB_c(r)\", linewidth = 2)\n",
    "plot!(r_c, rec_DBc, title = \"t=$(tc)\",  label=\"rec_DBc(r)\", linewidth = 2,\n",
    "ylim=(-0.5,0.5), xlim=(0,5))\n",
    "\n",
    "plot!([AH], seriestype=\"vline\", label=L\"AH\", linewidth=1, color = \"black\", frame = true)\n"
   ]
  },
  {
   "cell_type": "code",
   "execution_count": null,
   "metadata": {},
   "outputs": [],
   "source": [
    "AH = find_AH(r_f, Bf, Af, KBf)\n",
    "println(\"r_AH = \", AH)\n",
    "\n",
    "plot(r_c, DBc-rec_DBc, title = \"t=$(tc)\",  label=\"diff_DB_c(r)\", linewidth = 2, xlim=(0,5))\n",
    "plot!(r_m, DBm-rec_DBm, label=\"diff_DBm(r)\", linewidth = 2)\n",
    "plot!(r_f, DBf-rec_DBf, label=\"diff_DBm(r)\", linewidth = 2)\n",
    "\n",
    "plot!([AH], seriestype=\"vline\", label=L\"AH\", linewidth=1, color = \"black\", frame = true)\n"
   ]
  },
  {
   "cell_type": "code",
   "execution_count": null,
   "metadata": {},
   "outputs": [],
   "source": [
    "r = r_c\n",
    "ri_max = ri_max_causal\n",
    "\n",
    "AH = find_AH(r_c, Bc, Ac, KBc)\n",
    "println(\"r_AH = \", AH)\n",
    "\n",
    "plot(r_c[3:ri_max], Dαc[3:ri_max], title = \"t=$(tc)\",  label=\"Dαc(r)\", linewidth = 2)\n",
    "plot!(r_c[3:ri_max], rec_Dαc[3:ri_max], title = \"t=$(tc)\",  label=\"rec_Dαc(r)\", linewidth = 2,\n",
    "    #ylim=(-0.5,0.5),\n",
    "    #xlim=(0,5)\n",
    ")\n",
    "plot!([AH], seriestype=\"vline\", label=L\"AH\", linewidth=1, color = \"black\", frame = true)\n"
   ]
  },
  {
   "cell_type": "code",
   "execution_count": null,
   "metadata": {},
   "outputs": [],
   "source": [
    "AH = find_AH(r_f, Bf, Af, KBf)\n",
    "println(\"r_AH = \", AH)\n",
    "\n",
    "plot(r_c, Dαc-rec_Dαc, title = \"t=$(tc)\",  label=\"diff_Dαc(r)\", linewidth = 2, xlim=(-1,15))\n",
    "plot!(r_m, Dαm-rec_Dαm, label=\"diff_Dαm(r)\", linewidth = 2)\n",
    "plot!(r_f, Dαf-rec_Dαf, label=\"diff_Dαm(r)\", linewidth = 2)\n",
    "\n",
    "#plot!([AH], seriestype=\"vline\", label=L\"AH\", linewidth=1, color = \"black\", frame = true)\n"
   ]
  },
  {
   "cell_type": "code",
   "execution_count": null,
   "metadata": {},
   "outputs": [],
   "source": [
    "AH = find_AH(r_c, Bc, Ac, KBc)\n",
    "println(\"r_AH = \", AH)\n",
    "\n",
    "plot(r_c, Utldc, title = \"t=$(tc)\",  label=\"Utld_c(r)\", linewidth = 2)\n",
    "plot!(r_c, rec_Utldc, title = \"t=$(tc)\",  label=\"rec_Utldc(r)\", linewidth = 2\n",
    "#ylim=(-0.5,0.5), xlim=(0,5)\n",
    ")\n",
    "\n",
    "plot!([AH], seriestype=\"vline\", label=L\"AH\", linewidth=1, color = \"black\", frame = true)"
   ]
  },
  {
   "cell_type": "code",
   "execution_count": null,
   "metadata": {},
   "outputs": [],
   "source": [
    "AH = find_AH(r_f, Bf, Af, KBf)\n",
    "println(\"r_AH = \", AH)\n",
    "\n",
    "plot(r_c, Utldc-rec_Utldc, title = \"t=$(tc)\",  label=\"diff_Utldc(r)\", linewidth = 2, xlim=(-1,15))\n",
    "plot!(r_m, Utldm-rec_Utldm, label=\"diff_Utldm(r)\", linewidth = 2)\n",
    "plot!(r_f, Utldf-rec_Utldf, label=\"diff_Utldm(r)\", linewidth = 2)\n",
    "\n",
    "#plot!([AH], seriestype=\"vline\", label=L\"AH\", linewidth=1, color = \"black\", frame = true)\n"
   ]
  },
  {
   "cell_type": "code",
   "execution_count": null,
   "metadata": {},
   "outputs": [],
   "source": []
  }
 ],
 "metadata": {
  "kernelspec": {
   "display_name": "Julia 1.10.0",
   "language": "julia",
   "name": "julia-1.10"
  },
  "language_info": {
   "file_extension": ".jl",
   "mimetype": "application/julia",
   "name": "julia",
   "version": "1.10.0"
  }
 },
 "nbformat": 4,
 "nbformat_minor": 4
}
