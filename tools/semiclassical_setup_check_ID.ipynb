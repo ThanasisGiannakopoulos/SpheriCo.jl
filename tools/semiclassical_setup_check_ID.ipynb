{
 "cells": [
  {
   "cell_type": "markdown",
   "id": "09d4f568-7e7a-4c9e-a5a2-e4efc32cf955",
   "metadata": {},
   "source": [
    "Use this to check if your setup is good for backreaction."
   ]
  },
  {
   "cell_type": "code",
   "execution_count": null,
   "id": "f1fd4bd5",
   "metadata": {},
   "outputs": [],
   "source": [
    "using HDF5\n",
    "using LaTeXStrings\n",
    "using Plots ; pythonplot()\n",
    "using DelimitedFiles\n",
    "\n",
    "using SpheriCo"
   ]
  },
  {
   "cell_type": "code",
   "execution_count": null,
   "id": "4e9f8427-04bb-480c-a730-cee769a825d2",
   "metadata": {},
   "outputs": [],
   "source": [
    "# number of points in radial grid\n",
    "D = 3\n",
    "Nr = (128)*2^D + 1 + 2 # +1 for last point, + 2 for ghosts left of r=0\n",
    "r_max = 200\n",
    "# grid spacing\n",
    "hr = r_max / (Nr-3)\n",
    "r  = range(-2*hr, r_max, length=Nr) \n",
    "println(r)\n",
    "println(\"hr = \",hr)"
   ]
  },
  {
   "cell_type": "markdown",
   "id": "6c766a3a-cffa-446d-9f6e-9f05f34179f4",
   "metadata": {},
   "source": [
    "Classical initial data"
   ]
  },
  {
   "cell_type": "code",
   "execution_count": null,
   "id": "0daaf0c9-dc52-4703-a135-7d1f300fbe1d",
   "metadata": {},
   "outputs": [],
   "source": [
    "Phi_ID = zeros(length(r))\n",
    "Psi_ID = zeros(length(r))\n",
    "\n",
    "# amplitude\n",
    "a = 1.0\n",
    "# position of center\n",
    "b = 0.0\n",
    "#width\n",
    "c = 40.0\n",
    "for i in 1:length(r)\n",
    "    Phi_ID[i] = SpheriCo.classical.Φ_ID(r[i], a, c, b)\n",
    "    Psi_ID[i] = SpheriCo.classical.Ψ_ID(r[i], a, c, b)\n",
    "end\n"
   ]
  },
  {
   "cell_type": "markdown",
   "id": "62173ffd-f259-4248-8765-50e06e05c3a8",
   "metadata": {},
   "source": [
    "check what is tha characteristic length (λ_char) of the classical initial data (when the amplitude drops to 5% of its max). This afects what is a good mPV, which needs to e much bigger than 2π/λ_char."
   ]
  },
  {
   "cell_type": "code",
   "execution_count": null,
   "id": "214495a1-3374-4f35-a6af-e91f99a8e140",
   "metadata": {},
   "outputs": [],
   "source": [
    "i = 3\n",
    "while Phi_ID[i] > maximum(Phi_ID)*0.05\n",
    "    i+=1\n",
    "end\n",
    "println(\"λ_char = \", r[i])\n",
    "println(\"2π/λ_char = \", 2π/r[i])"
   ]
  },
  {
   "cell_type": "markdown",
   "id": "ba917464-1473-4fb7-9fa5-74b9e4a56d84",
   "metadata": {},
   "source": [
    "Plot ID for Φ"
   ]
  },
  {
   "cell_type": "code",
   "execution_count": null,
   "id": "d4565380-a8e2-4a14-a44a-4e26fdfd1ccd",
   "metadata": {},
   "outputs": [],
   "source": [
    "ri_min = 3\n",
    "ri_max = Nr\n",
    "\n",
    "plot(r[ri_min:ri_max], Phi_ID[ri_min:ri_max], linewidth = 2, frame = true, wsize = (800,400),\n",
    "     xlim=(0.0,r_max))\n"
   ]
  },
  {
   "cell_type": "markdown",
   "id": "d44b64f9-fe22-4f86-9827-090a53edc9ef",
   "metadata": {},
   "source": [
    "Check if the mPV choice is good. You also want dt<< 1/omega_max"
   ]
  },
  {
   "cell_type": "code",
   "execution_count": null,
   "id": "4309d050-614a-4845-8736-6518800c862f",
   "metadata": {},
   "outputs": [],
   "source": [
    "mPV = 1.0\n",
    "mlist = [0.0, 1.0*mPV, sqrt(3.0)*mPV, 2.0*mPV]\n",
    "println(mlist)\n",
    "dk = π/r_max\n",
    "lmax = 30\n",
    "kmax = 10\n",
    "println(\"dk = \", dk)\n",
    "omega_max = sqrt(kmax*dk + 2*mPV)\n",
    "println(\"1/omega_max = \", 1/omega_max)\n",
    "println(\"dt = hr/16 = \", hr/16)"
   ]
  },
  {
   "cell_type": "markdown",
   "id": "df4944c4-3994-447f-a7ac-ba26adf4ad8b",
   "metadata": {},
   "source": [
    "Build the ID for the quantum modes"
   ]
  },
  {
   "cell_type": "code",
   "execution_count": null,
   "id": "508b80c6-56f3-4ecc-a215-cb553c303df9",
   "metadata": {},
   "outputs": [],
   "source": [
    "v_quantum = zeros(ComplexF64, (length(r), Int(lmax+1), Int(kmax), length(mlist), 3));\n",
    "println(\"size(v_quantum) = \", size(v_quantum))\n",
    "\n",
    "for ll in 0:lmax\n",
    "    for kk in 1:kmax\n",
    "        for mm in 1:length(mlist)\n",
    "            # index for uq, ψq, and πq\n",
    "            uqi = 1\n",
    "            ψqi = 2\n",
    "            πqi = 3\n",
    "            mi = mlist[mm]\n",
    "            for i in 3:Nr\n",
    "                k=kk*dk\n",
    "                # uq; even\n",
    "                v_quantum[i, Int(ll+1), Int(kk), mm, uqi] = SpheriCo.quantum.uq_ID(r[i], k, mi, Float64(ll) )\n",
    "                # ψq; odd\n",
    "                v_quantum[i, Int(ll+1), Int(kk), mm, ψqi] = SpheriCo.quantum.ψq_ID(r[i], k, mi, Float64(ll) )\n",
    "                # πq; even\n",
    "                v_quantum[i, Int(ll+1), Int(kk), mm, πqi] = SpheriCo.quantum.πq_ID(r[i], k, mi, Float64(ll) ) \n",
    "            end\n",
    "            # uq ghosts; even\n",
    "            v_quantum[:, Int(ll+1), Int(kk), mm, uqi] = SpheriCo.even_ghosts(v_quantum[:, Int(ll+1), Int(kk), mm, uqi])\n",
    "            # ψq ghosts; odd\n",
    "            v_quantum[:, Int(ll+1), Int(kk), mm, ψqi] = SpheriCo.odd_ghosts(v_quantum[:, Int(ll+1), Int(kk), mm, ψqi])\n",
    "            # πq ghosts; even\n",
    "            v_quantum[:, Int(ll+1), Int(kk), mm, πqi] = SpheriCo.even_ghosts(v_quantum[:, Int(ll+1), Int(kk), mm, πqi]) \n",
    "        end \n",
    "    end\n",
    "end"
   ]
  },
  {
   "cell_type": "markdown",
   "id": "e1660335-26e4-454a-83d2-e55bc72e6afc",
   "metadata": {},
   "source": [
    "Check if they are resolved well in this grid."
   ]
  },
  {
   "cell_type": "code",
   "execution_count": null,
   "id": "f7371562-82ee-4a54-9c8e-3a08b0cef35e",
   "metadata": {},
   "outputs": [],
   "source": [
    "ri_min = 3\n",
    "ri_max = Nr\n",
    "println(\"hr = \", hr)\n",
    "\n",
    "ll = 1.0\n",
    "kk = 10.0\n",
    "f1 = real.((v_quantum)[:,Int(ll)+1,Int(kk),4,2]) \n",
    "plot(r[ri_min:ri_max], f1[ri_min:ri_max],\n",
    "     label = \"f1\", linewidth = 2, frame = true, wsize = (800,400),\n",
    "     xlim=(0,r_max))\n"
   ]
  },
  {
   "cell_type": "code",
   "execution_count": null,
   "id": "a444be10-c091-411c-9a13-c064ee37062d",
   "metadata": {},
   "outputs": [],
   "source": []
  }
 ],
 "metadata": {
  "kernelspec": {
   "display_name": "Julia 1.10.0",
   "language": "julia",
   "name": "julia-1.10"
  },
  "language_info": {
   "file_extension": ".jl",
   "mimetype": "application/julia",
   "name": "julia",
   "version": "1.10.0"
  }
 },
 "nbformat": 4,
 "nbformat_minor": 5
}
