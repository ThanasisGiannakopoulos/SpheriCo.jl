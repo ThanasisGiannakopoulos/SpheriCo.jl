{
 "cells": [
  {
   "cell_type": "markdown",
   "id": "0c83f715-7b00-4d43-887c-26c1653468c3",
   "metadata": {},
   "source": [
    "This script analyzes the effect of the quantum modes on the classical geometry and can be used both for setups with and without backreaction. The bilinears are used to calculate the effect of the quantum modes on the classical stress energy tensor. As is, it works correclty only with fixed rmax. With minor adaptations it can work correctly with infalling rmax, as well. In its current form and for infalling rmax, it cannot plot the correct radial domain, that shrinks, but only the original one."
   ]
  },
  {
   "cell_type": "code",
   "execution_count": null,
   "id": "f1fd4bd5",
   "metadata": {},
   "outputs": [],
   "source": [
    "# loads the needed packages\n",
    "using HDF5\n",
    "using LaTeXStrings\n",
    "using Plots ; pythonplot()\n",
    "using DelimitedFiles\n",
    "using SpecialFunctions\n",
    "using FunctionZeros\n",
    "using Interpolations\n",
    "\n",
    "using SpheriCo"
   ]
  },
  {
   "cell_type": "code",
   "execution_count": null,
   "id": "9c3f8f8e",
   "metadata": {},
   "outputs": [],
   "source": [
    "# give the directory where the data from all the runs are saved\n",
    "dir = \"../examples/quantum_runs/\"\n",
    "par = \"a0.0_b0.0_c1.0_rmax30.0_tmax10.0_cfl0.0625_sigma0.0_overMp2_0.9988967160535545_reg_true_backreact_true_rcut20.0_mPV1.0_dk_denom_30_kmax10.0_lmax30.0\"\n",
    "your_dir = dir*par"
   ]
  },
  {
   "cell_type": "markdown",
   "id": "cac97f90-45b1-4602-aa58-e0a6fa89fe4b",
   "metadata": {},
   "source": [
    "Set the number of points Nr of the simulation, load the radial grid (fixed), read all the h5 files with specific prefixes, and save them in lists."
   ]
  },
  {
   "cell_type": "code",
   "execution_count": null,
   "id": "ddb4caa1",
   "metadata": {},
   "outputs": [],
   "source": [
    "# tune D to tune the number of grid points Nr such that it corresponds to that of your simulation\n",
    "D = 3\n",
    "Nr = 128*2^D + 3 # the overal course graining\n",
    "\n",
    "# create the directory where the plots are saved\n",
    "out_dir = \"./convergence_plots/\"*par*\"/resol_D$(D)\"\n",
    "if ispath(out_dir)==false\n",
    "    mkpath(out_dir)\n",
    "end\n",
    "\n",
    "# load the r grid\n",
    "r = h5read(your_dir*\"/data_$(Nr)/r.h5\",\"r\")\n",
    "dr = r[2] - r[1]\n",
    "\n",
    "# list all available iterations (and corresponding files)\n",
    "(its, all_filenames)           = list_h5_files(your_dir*\"/data_$(Nr)\", prefix=\"data_\");\n",
    "(its_bln, all_filenames_bln)   = list_h5_files(your_dir*\"/data_$(Nr)\", prefix=\"bilinears_\");\n",
    "(its_quantum, all_filenames_quantum)   = list_h5_files(your_dir*\"/data_$(Nr)\", prefix=\"quantum_\");\n",
    "\n",
    "# check the timesteps where data are saved\n",
    "# for classical geometry data (called \"data\")\n",
    "println(\"length(its)=\",length(its))\n",
    "println(\"its\",its)\n",
    "\n",
    "# for the bilinears\n",
    "println(\"length(its_bln)=\",length(its_bln))\n",
    "println(\"its_bln=\",its_bln)\n",
    "\n",
    "# for the state vector that has all the quantum modes\n",
    "# strictly speaking, they are not needed below and can be commented out\n",
    "println(\"length(its_quantum)=\",length(its_quantum))\n",
    "println(\"its_quantum=\",its_quantum)"
   ]
  },
  {
   "cell_type": "markdown",
   "id": "fa8e0d21-a68f-48bd-ad93-53304787e224",
   "metadata": {},
   "source": [
    "Load the data for a given iteration (it)."
   ]
  },
  {
   "cell_type": "code",
   "execution_count": null,
   "id": "f631f790-aa27-4661-8ed7-913b42867e01",
   "metadata": {},
   "outputs": [],
   "source": [
    "# it is the iteration you analyze and it is an index running within the lists printed above i.e. it=1, its[it]=0\n",
    "it = 50\n",
    "\n",
    "# it saves the iteration number that it points to, within its list\n",
    "it_data = its[it]\n",
    "# makes this iteration number a string\n",
    "it_str_data  = lpad(it_data, 4, \"0\")\n",
    "\n",
    "# similar to above, for the bilinears\n",
    "it_bln = its_bln[it]\n",
    "it_str_bln  = lpad(it_bln, 4, \"0\")\n",
    "\n",
    "# similar to above, for the quantum modes\n",
    "it_quantum = its_quantum[it]\n",
    "it_str_quantum  = lpad(it_quantum, 4, \"0\")\n",
    "\n",
    "# labels for the classical variables\n",
    "v_classic_labels = [\"Φ\", \"Π\", \"Ψ\", \"A\", \"B\", \"DB\", \"Utld\", \"K\", \"KB\", \"λ\", \"α\", \"Dα\", \"Θ\", \"Zr\", \"f\", \"g\", \"U\", \"V\"]\n",
    "# loads the classical variables at the given it\n",
    "v = h5read(your_dir*\"/data_$(Nr)/data_$(it_str_data).h5\",\"v\")\n",
    "# give names to specific variables needed later\n",
    "Π  = v[:,2]\n",
    "Ψ  = v[:,3]\n",
    "A  = v[:,4]\n",
    "oA = 1.0./A\n",
    "B  = v[:,5]\n",
    "oB = 1.0./B\n",
    "KB = v[:,9]\n",
    "α  = v[:,11]\n",
    "\n",
    "# load the bilinears\n",
    "bln  = h5read(your_dir*\"/data_$(Nr)/bilinears_$(it_str_bln).h5\",\"bilinears\")\n",
    "# load the quantum modes\n",
    "v_quantum = h5read(your_dir*\"/data_$(Nr)/quantum_$(it_str_quantum).h5\",\"v\")\n",
    "\n",
    "# if there is an error when loading the time attribute, try to change \"./\" to \".\" or to \"/\" \n",
    "t_data    =  h5readattr(your_dir*\"/data_$(Nr)/data_$(it_str_data).h5\", \"/\")[\"time\"]\n",
    "t_bln     =  h5readattr(your_dir*\"/data_$(Nr)/bilinears_$(it_str_bln).h5\", \"/\")[\"time\"]\n",
    "t_quantum =  h5readattr(your_dir*\"/data_$(Nr)/quantum_$(it_str_quantum).h5\", \"/\")[\"time\"]\n",
    "\n",
    "# checks if time instant is the same for all types of data\n",
    "@assert t_data ≈ t_bln ≈ t_quantum"
   ]
  },
  {
   "cell_type": "markdown",
   "id": "26966289-6405-4890-aefd-c71a6cbe2ac6",
   "metadata": {},
   "source": [
    "Build the different components of the stress-energy tensor (with mixed up-down indices), classical and quantum contributions separately."
   ]
  },
  {
   "cell_type": "code",
   "execution_count": null,
   "id": "d2f60847-dcc6-416e-87c6-58642920f951",
   "metadata": {},
   "outputs": [],
   "source": [
    "# classical\n",
    "ρ  = 0.5.*oA.*((oB.^2.0).*(Π.^2.0) .+ Ψ.^2.0)\n",
    "jA = -(oA.^0.5).*oB.*Π.*Ψ\n",
    "SA = 0.5.*oA.*((oB.^2.0).*(Π.^2.0) .+ Ψ.^2.0)\n",
    "SB = 0.5.*oA.*((oB.^2.0).*(Π.^2.0) .- Ψ.^2.0)\n",
    "\n",
    "#quantum\n",
    "hbar = 1.0\n",
    "c = 1.0\n",
    "\n",
    "ρ_quantum = @. (hbar*c^2/(4.0*π))*((0.5/α^2)*bln[:,2] + (0.5/A)*bln[:,3] + (1/B)*bln[:,5] - 0.5*bln[:,1] );\n",
    "jA_quantum = @. -(hbar*c^2/(4.0*π))*(1.0/α)*bln[:,4];\n",
    "SA_quantum = @. (hbar*c^2/(4.0*π))*( (0.5/α^2)*bln[:,2] + (0.5/A)*bln[:,3] - (1/B)*bln[:,5] - 0.5*bln[:,1] );\n",
    "SB_quantum = @. (hbar*c^2/(4.0*π))*( (0.5/α^2)*bln[:,2] -(0.5/A)*bln[:,3] - 0.5*bln[:,1] );"
   ]
  },
  {
   "cell_type": "markdown",
   "id": "d6477aa3-9c5b-4780-a31e-192d86b5e037",
   "metadata": {},
   "source": [
    "Build the stress-energy tensor with both indices down, as well as specific components of the the 4 dimensional metric tensor (with both indices down)."
   ]
  },
  {
   "cell_type": "code",
   "execution_count": null,
   "id": "a57ac074-ef15-4b4c-ab94-ff3def3ddf50",
   "metadata": {},
   "outputs": [],
   "source": [
    "T_tt = @. α^2*(ρ + real(ρ_quantum));\n",
    "T_rr = @. A*(SA + real(SA_quantum));\n",
    "T_θθ = @. B*r^2*(SB + real(SB_quantum));\n",
    "\n",
    "g_tt = @. -α^2;\n",
    "g_rr = A;\n",
    "g_θθ = @. B*r^2;"
   ]
  },
  {
   "cell_type": "markdown",
   "id": "5d7b0cf8-7d8c-428e-870e-475fc6db3289",
   "metadata": {},
   "source": [
    "Plots"
   ]
  },
  {
   "cell_type": "code",
   "execution_count": null,
   "id": "cc643ff6-5cbc-4eaf-8e54-4037583ea6b7",
   "metadata": {},
   "outputs": [],
   "source": [
    "# the index that r start from: r[3]=0\n",
    "ri_min = 3\n",
    "# the index tht r stops (in the plot)\n",
    "ri_max = 512\n",
    "\n",
    "plot(r[ri_min:ri_max], real.(ρ_quantum[ri_min:ri_max]), title = \"t=$(t_bln)\",\n",
    "     label = L\"\\rho_{quantum}\", linewidth = 2, frame = true, wsize = (800,600))"
   ]
  },
  {
   "cell_type": "code",
   "execution_count": null,
   "id": "5f059472-fa39-40ba-8b2f-374ed94f37ce",
   "metadata": {},
   "outputs": [],
   "source": [
    "# the index that r start from: r[3]=0\n",
    "ri_min = 3\n",
    "# the index tht r stops (in the plot)\n",
    "ri_max = 512\n",
    "\n",
    "plot(r[ri_min:ri_max], real.(SA_quantum[ri_min:ri_max]), title = \"t=$(t_bln)\",\n",
    "     label = L\"S_{A \\,quantum}\", linewidth = 2, frame = true, wsize = (800,600))"
   ]
  },
  {
   "cell_type": "code",
   "execution_count": null,
   "id": "5bacec85-b8f6-4017-8550-4bdaaba0b7a6",
   "metadata": {},
   "outputs": [],
   "source": [
    "# the index that r start from: r[3]=0\n",
    "ri_min = 3\n",
    "# the index tht r stops (in the plot)\n",
    "ri_max = 512\n",
    "\n",
    "plot(r[ri_min:ri_max], real.(SB_quantum[ri_min:ri_max]), title = \"t=$(t_bln)\",\n",
    "     label = L\"S_{B \\,quantum}\", linewidth = 2, frame = true, wsize = (800,600))"
   ]
  },
  {
   "cell_type": "code",
   "execution_count": null,
   "id": "c93e6031-6ecf-4e0b-8ca7-b74b01908bcd",
   "metadata": {},
   "outputs": [],
   "source": [
    "# the index that r start from: r[3]=0\n",
    "ri_min = 3\n",
    "# the index tht r stops (in the plot)\n",
    "ri_max = 512\n",
    "\n",
    "plot(r[ri_min:ri_max], real.(jA_quantum[ri_min:ri_max]), title = \"t=$(t_bln)\",\n",
    "     label = L\"j_{A \\,quantum}\", linewidth = 2, frame = true, wsize = (800,600))"
   ]
  },
  {
   "cell_type": "code",
   "execution_count": null,
   "id": "b1aabb26-2d3b-4ced-b01a-4d4ff3a70323",
   "metadata": {},
   "outputs": [],
   "source": [
    "# the index that r start from: r[3]=0\n",
    "ri_min = 3\n",
    "# the index tht r stops (in the plot)\n",
    "ri_max = 512\n",
    "\n",
    "#plot(r[ri_min:ri_max], tt[ri_min:ri_max], title = \"t=$(t_bln)\",\n",
    "#     label = \"tt diff\", linewidth = 2, color = \"royalblue\", frame = true, wsize = (800,600))\n",
    "plot(r[ri_min:ri_max], g_tt[ri_min:ri_max], title = \"t=$(t_bln)\",# the index that r start from: r[3]=0\n",
    "ri_min = 3\n",
    "# the index tht r stops (in the plot)\n",
    "ri_max = 512\n",
    "\n",
    "plot(r[ri_min:ri_max], real.(ρ_quantum[ri_min:ri_max]), title = \"t=$(t_bln)\",\n",
    "     label = L\"\\rho_{quantum}\", linewidth = 2, frame = true, wsize = (800,600))\n",
    "     label = \"g_tt\", linewidth = 2, frame = true, wsize = (800,600))\n",
    "plot!(r[ri_min:ri_max], T_tt[ri_min:ri_max], title = \"t=$(t_bln)\",\n",
    "     label = \"T_tt\", linewidth = 2, frame = true, wsize = (800,600))\n",
    "plot!(r[ri_min:ri_max], -(T_tt./(ρ + real(ρ_quantum)))[ri_min:ri_max], title = \"t=$(t_bln)\",\n",
    "     label = \"-T_tt/<ρ>\", linewidth = 2, frame = true, wsize = (800,600))"
   ]
  },
  {
   "cell_type": "code",
   "execution_count": null,
   "id": "1f569da6-9efc-4d98-b573-62b5842071de",
   "metadata": {},
   "outputs": [],
   "source": [
    "ri_min = 3\n",
    "ri_max = 512\n",
    "\n",
    "plot(r[ri_min:ri_max], g_rr[ri_min:ri_max], title = \"t=$(t_bln)\",\n",
    "     label = \"g_rr\", linewidth = 2, frame = true, wsize = (800,600))\n",
    "plot!(r[ri_min:ri_max], T_rr[ri_min:ri_max], title = \"t=$(t_bln)\",\n",
    "     label = \"T_rr\", linewidth = 2, frame = true, wsize = (800,600))"
   ]
  },
  {
   "cell_type": "code",
   "execution_count": null,
   "id": "bc29d946-6cb4-42c3-8002-f73d39f9e571",
   "metadata": {},
   "outputs": [],
   "source": [
    "ri_min = 3\n",
    "ri_max = 512\n",
    "\n",
    "plot(r[ri_min:ri_max], g_θθ[ri_min:ri_max], title = \"t=$(t_bln)\",\n",
    "     label = \"g_θθ\", linewidth = 2, frame = true, wsize = (800,600))\n",
    "plot!(r[ri_min:ri_max], T_θθ[ri_min:ri_max], title = \"t=$(t_bln)\",\n",
    "     label = \"T_θθ\", linewidth = 2, frame = true, wsize = (800,600))"
   ]
  }
 ],
 "metadata": {
  "kernelspec": {
   "display_name": "Julia 1.10.0",
   "language": "julia",
   "name": "julia-1.10"
  },
  "language_info": {
   "file_extension": ".jl",
   "mimetype": "application/julia",
   "name": "julia",
   "version": "1.10.0"
  }
 },
 "nbformat": 4,
 "nbformat_minor": 5
}
