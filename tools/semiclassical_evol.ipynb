{
 "cells": [
  {
   "cell_type": "markdown",
   "id": "47a1ae4c-b482-499f-abcf-6a30cb3839e0",
   "metadata": {},
   "source": [
    "Visualise various quantities from a single semiclassical simulation. Assumes that you saved \"data\", \"quantum\", and \"bilinears\" at the same timesteps, and that you run with fixed rmax."
   ]
  },
  {
   "cell_type": "code",
   "execution_count": null,
   "id": "f1fd4bd5",
   "metadata": {},
   "outputs": [],
   "source": [
    "using HDF5\n",
    "using LaTeXStrings\n",
    "using Plots ; pythonplot()\n",
    "using DelimitedFiles\n",
    "using SpheriCo"
   ]
  },
  {
   "cell_type": "code",
   "execution_count": null,
   "id": "9c3f8f8e",
   "metadata": {},
   "outputs": [],
   "source": [
    "# give the directory where the data from all the runs are saved\n",
    "dir = \"../examples/quantum_runs/\"\n",
    "par = \"a0.4_b0.0_c4.0_rmax15.0_tmax7.0_cfl0.0625_sigma0.0_overMp2_25.132741228718345_reg_true_backreact_false_mPV100.0_dk_denom_15_kmax10.0_lmax30.0\"\n",
    "your_dir = dir*par"
   ]
  },
  {
   "cell_type": "code",
   "execution_count": null,
   "id": "ddb4caa1",
   "metadata": {},
   "outputs": [],
   "source": [
    "# gridpoints\n",
    "D = 3\n",
    "Nr = 128*2^D + 3 # the overal course graining\n",
    "\n",
    "# load the r grid\n",
    "r = h5read(your_dir*\"/data_$(Nr)/r.h5\",\"r\")\n",
    "dr = r[2] - r[1]\n",
    "\n",
    "# list all available iterations (and corresponding files)\n",
    "(its, all_filenames)           = list_h5_files(your_dir*\"/data_$(Nr)\", prefix=\"data_\");\n",
    "(its_bln, all_filenames_bln)   = list_h5_files(your_dir*\"/data_$(Nr)\", prefix=\"bilinears_\");\n",
    "(its_quantum, all_filenames_quantum)   = list_h5_files(your_dir*\"/data_$(Nr)\", prefix=\"quantum_\");\n",
    "\n",
    "# timesteps when data are saved\n",
    "println(\"length(its)=\",length(its))\n",
    "println(\"its\",its)\n",
    "\n",
    "println(\"length(its_bln)=\",length(its_bln))\n",
    "println(\"its_bln=\",its_bln)\n",
    "\n",
    "println(\"length(its_quantum)=\",length(its_quantum))\n",
    "println(\"its_quantum=\",its_quantum)"
   ]
  },
  {
   "cell_type": "code",
   "execution_count": null,
   "id": "f631f790-aa27-4661-8ed7-913b42867e01",
   "metadata": {},
   "outputs": [],
   "source": [
    "# choose an iteration to visualise\n",
    "it = 120\n",
    "\n",
    "it_data = its[it]\n",
    "it_str_data  = lpad(it_data, 4, \"0\")\n",
    "\n",
    "it_bln = its_bln[it]\n",
    "it_str_bln  = lpad(it_bln, 4, \"0\")\n",
    "\n",
    "it_quantum = its_quantum[it]\n",
    "it_str_quantum  = lpad(it_quantum, 4, \"0\")\n",
    "\n",
    "v_classic_labels = [\"Φ\", \"Π\", \"Ψ\", \"A\", \"B\", \"DB\", \"Utld\", \"K\", \"KB\", \"λ\", \"α\", \"Dα\", \"Θ\", \"Zr\", \"f\", \"g\", \"U\", \"V\"]\n",
    "v = h5read(your_dir*\"/data_$(Nr)/data_$(it_str_data).h5\",\"v\")\n",
    "Π  = v[:,2]\n",
    "Ψ  = v[:,3]\n",
    "A  = v[:,4]\n",
    "oA = 1.0./A\n",
    "B  = v[:,5]\n",
    "oB = 1.0./B\n",
    "KB = v[:,9]\n",
    "α  = v[:,11]\n",
    "K  = v[:,8]\n",
    "\n",
    "bln  = h5read(your_dir*\"/data_$(Nr)/bilinears_$(it_str_bln).h5\",\"bilinears\")\n",
    "v_quantum = h5read(your_dir*\"/data_$(Nr)/quantum_$(it_str_quantum).h5\",\"v\")\n",
    "\n",
    "# if there is an error when loading the time attribute, try to change \"./\" to \".\" or to \"/\" \n",
    "t_data    =  h5readattr(your_dir*\"/data_$(Nr)/data_$(it_str_data).h5\", \"/\")[\"time\"]\n",
    "t_bln     =  h5readattr(your_dir*\"/data_$(Nr)/bilinears_$(it_str_bln).h5\", \"/\")[\"time\"]\n",
    "t_quantum =  h5readattr(your_dir*\"/data_$(Nr)/quantum_$(it_str_quantum).h5\", \"/\")[\"time\"]\n",
    "\n",
    "# checks if time instant is the same for all types of data\n",
    "@assert t_data ≈ t_bln\n",
    "@assert t_data ≈ t_quantum\n",
    "\n",
    "mPV = 1.0\n",
    "CC = -log(3^9/2^16)*(mPV^4)/(8*(2*π)^2);\n",
    "id = ones(length(r));\n",
    "\n",
    "# classical\n",
    "ρ  = 0.5.*oA.*((oB.^2.0).*(Π.^2.0) .+ Ψ.^2.0)\n",
    "jA = -(oA.^0.5).*oB.*Π.*Ψ\n",
    "SA = 0.5.*oA.*((oB.^2.0).*(Π.^2.0) .+ Ψ.^2.0)\n",
    "SB = 0.5.*oA.*((oB.^2.0).*(Π.^2.0) .- Ψ.^2.0)\n",
    "\n",
    "# convention\n",
    "hbar = 1.0\n",
    "c = 1.0\n",
    "\n",
    "ρ_quantum = @. (hbar*c^2/(4.0*π))*((0.5/α^2)*bln[:,2] + (0.5/A)*bln[:,3] + (1/B)*bln[:,5] + 0.5*bln[:,1] );\n",
    "jA_quantum = @. -(hbar*c^2/(4.0*π))*(1.0/α)*bln[:,4];\n",
    "SA_quantum = @. (hbar*c^2/(4.0*π))*( (0.5/α^2)*bln[:,2] + (0.5/A)*bln[:,3] - (1/B)*bln[:,5] - 0.5*bln[:,1] );\n",
    "SB_quantum = @. (hbar*c^2/(4.0*π))*( (0.5/α^2)*bln[:,2] -(0.5/A)*bln[:,3] - 0.5*bln[:,1] );\n",
    "\n",
    "ρ_full = ρ + real.(ρ_quantum)\n",
    "SA_full = SA + real.(SA_quantum)\n",
    "SB_full = SB + real.(SB_quantum)\n",
    "jA_full = jA + real.(jA_quantum)\n",
    "\n",
    "T_tt = @. α^2*(ρ + real(ρ_quantum));\n",
    "T_rr = @. A*(SA + real(SA_quantum));\n",
    "T_θθ = @. B*r^2*(SB + real(SB_quantum));\n",
    "\n",
    "# matter content (sources) in K rhs = α(0.5*SA + SB - Λ + 0.5*ρ)/Mp^2\n",
    "source_K = 0.5*SA_full + SB_full - CC*id + 0.5*ρ_full;\n",
    "\n",
    "# matter content (sources) in KB rhs = 0.5*α(SA - Λ - ρ)/Mp^2\n",
    "source_KB = SA_full - 2.0*CC*id - ρ_full;"
   ]
  },
  {
   "cell_type": "code",
   "execution_count": null,
   "id": "f93f6ff2-5114-41ec-a318-8b4ce5cac115",
   "metadata": {},
   "outputs": [],
   "source": [
    "ri_min = 3\n",
    "ri_max = 2*512\n",
    "bln_i = 4\n",
    "blni = bln[:,bln_i]\n",
    "\n",
    "plot(r[ri_min:ri_max], real.(blni)[ri_min:ri_max], title = \"t=$(t_bln)\",\n",
    "     label = \"Re(bln[$(bln_i)])\", linewidth = 2, frame = true, wsize = (800,400),\n",
    "     legend=:bottomright)"
   ]
  },
  {
   "cell_type": "code",
   "execution_count": null,
   "id": "7245dc74-2ad3-4060-b752-715aa5480643",
   "metadata": {},
   "outputs": [],
   "source": [
    "ri_min = 3\n",
    "ri_max = 512*2\n",
    "ll = 30.0 # l index\n",
    "kk = 5.0 # k index\n",
    "mi = 1 # for mass\n",
    "fi = 1 # 1 is uq, 2 ψq, 3 πq\n",
    "\n",
    "f = real.((v_quantum)[:,Int(ll)+1,Int(kk),mi,fi]) \n",
    "plot(r[ri_min:ri_max], f[ri_min:ri_max], title = \"t=$(t_bln)\",\n",
    "     label = \"f\", linewidth = 2, frame = true, wsize = (800,400))"
   ]
  },
  {
   "cell_type": "code",
   "execution_count": null,
   "id": "ab2d13e7-893f-4d36-a0c1-e66fc740d62a",
   "metadata": {},
   "outputs": [],
   "source": [
    "ri_min = 3\n",
    "ri_max = 1*512\n",
    "\n",
    "plot(r[ri_min:ri_max], (ρ_full)[ri_min:ri_max], title = \"t=$(t_bln)\",\n",
    "     label = \"ρ_full\", linewidth = 2, frame = true, wsize = (800,400),\n",
    "legend=:top)"
   ]
  },
  {
   "cell_type": "code",
   "execution_count": null,
   "id": "61c9e8f5-1d49-4bb1-91f2-a5b935b139cf",
   "metadata": {},
   "outputs": [],
   "source": [
    "ri_min = 3\n",
    "ri_max = 1*512\n",
    "\n",
    "plot(r[ri_min:ri_max], (SA_full)[ri_min:ri_max], title = \"t=$(t_bln)\",\n",
    "     label = \"SA_full\", linewidth = 2, frame = true, wsize = (800,400),\n",
    "legend=:top)"
   ]
  },
  {
   "cell_type": "code",
   "execution_count": null,
   "id": "8eaf734a-7ab0-4e98-a788-e0d116808f1a",
   "metadata": {},
   "outputs": [],
   "source": [
    "ri_min = 3\n",
    "ri_max = 1*512\n",
    "\n",
    "plot(r[ri_min:ri_max], (SB_full)[ri_min:ri_max], title = \"t=$(t_bln)\",\n",
    "     label = \"SB_full\", linewidth = 2, frame = true, wsize = (800,400),\n",
    "legend=:bottomright)"
   ]
  },
  {
   "cell_type": "code",
   "execution_count": null,
   "id": "ab043f92-8535-4945-8d14-908db1e24581",
   "metadata": {},
   "outputs": [],
   "source": [
    "ri_min = 3\n",
    "ri_max = 1*512\n",
    "\n",
    "plot(r[ri_min:ri_max], source_K[ri_min:ri_max], title = \"t=$(t_bln)\",\n",
    "     label = \"source_K\", linewidth = 2, frame = true, wsize = (800,400))"
   ]
  },
  {
   "cell_type": "code",
   "execution_count": null,
   "id": "23c98d9c-fb0c-4e68-a669-eeff94ee3cca",
   "metadata": {},
   "outputs": [],
   "source": [
    "ri_min = 3\n",
    "ri_max = 1*512\n",
    "\n",
    "plot(r[ri_min:ri_max], source_KB[ri_min:ri_max], title = \"t=$(t_bln)\",\n",
    "     label = \"source_KB\", linewidth = 2, frame = true, wsize = (800,400))"
   ]
  },
  {
   "cell_type": "code",
   "execution_count": null,
   "id": "278be720-7c18-4a60-9dab-e77bcda15490",
   "metadata": {},
   "outputs": [],
   "source": [
    "ri_min = 3\n",
    "ri_max = 1*512\n",
    "\n",
    "plot(r[ri_min:ri_max], jA[ri_min:ri_max], title = \"t=$(t_bln)\",\n",
    "     label = \"jA\", linewidth = 2, frame = true, wsize = (800,400))"
   ]
  },
  {
   "cell_type": "code",
   "execution_count": null,
   "id": "e32be3f4-d48a-429f-a0f1-de13a74bd857",
   "metadata": {},
   "outputs": [],
   "source": [
    "ri_min = 3\n",
    "ri_max = 2*512\n",
    "\n",
    "plot(r[ri_min:ri_max], α[ri_min:ri_max], title = \"t=$(t_bln)\",\n",
    "     label = \"α\", linewidth = 2, frame = true, wsize = (800,400))"
   ]
  },
  {
   "cell_type": "code",
   "execution_count": null,
   "id": "630e378c-bcf1-42a5-b849-d4332d1087d1",
   "metadata": {},
   "outputs": [],
   "source": [
    "ri_min = 3\n",
    "ri_max = 2*512\n",
    "\n",
    "plot(r[ri_min:ri_max], B[ri_min:ri_max], title = \"t=$(t_bln)\",\n",
    "     label = \"B\", linewidth = 2, frame = true, wsize = (800,400))"
   ]
  },
  {
   "cell_type": "code",
   "execution_count": null,
   "id": "98ca8802-df3c-47c9-8fff-c29d1888d568",
   "metadata": {},
   "outputs": [],
   "source": [
    "ri_min = 3\n",
    "ri_max = 2*512\n",
    "\n",
    "plot(r[ri_min:ri_max], A[ri_min:ri_max], title = \"t=$(t_bln)\",\n",
    "     label = \"A\", linewidth = 2, frame = true, wsize = (800,400))"
   ]
  },
  {
   "cell_type": "code",
   "execution_count": null,
   "id": "7f747b2d-f00c-4b90-877e-5c8fd709c215",
   "metadata": {},
   "outputs": [],
   "source": [
    "ri_min = 3\n",
    "ri_max = 2*512\n",
    "\n",
    "plot(r[ri_min:ri_max], K[ri_min:ri_max], title = \"t=$(t_bln)\",\n",
    "     label = \"K\", linewidth = 2, frame = true, wsize = (800,400))\n",
    "plot!([r[end]-t_bln], seriestype=\"vline\", label=\"r=rmax_causal\", linewidth=1, color = \"black\",legend=:bottomright)\n"
   ]
  },
  {
   "cell_type": "code",
   "execution_count": null,
   "id": "6892d037-ae75-4989-af17-0001c3722f2b",
   "metadata": {},
   "outputs": [],
   "source": [
    "ri_min = 3\n",
    "ri_max = 1*512\n",
    "\n",
    "plot(r[ri_min:ri_max], KB[ri_min:ri_max], title = \"t=$(t_bln)\",\n",
    "     label = \"KB\", linewidth = 2, frame = true, wsize = (800,400))\n",
    "plot!([r[end]-t_bln], seriestype=\"vline\", label=\"r=rmax_causal\", linewidth=1, color = \"black\",legend=:bottomleft)\n"
   ]
  },
  {
   "cell_type": "code",
   "execution_count": null,
   "id": "846beec8-c0f7-4512-a92d-6f7235651139",
   "metadata": {},
   "outputs": [],
   "source": []
  }
 ],
 "metadata": {
  "kernelspec": {
   "display_name": "Julia 1.10.0",
   "language": "julia",
   "name": "julia-1.10"
  },
  "language_info": {
   "file_extension": ".jl",
   "mimetype": "application/julia",
   "name": "julia",
   "version": "1.10.0"
  }
 },
 "nbformat": 4,
 "nbformat_minor": 5
}
