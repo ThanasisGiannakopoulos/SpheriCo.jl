{
 "cells": [
  {
   "cell_type": "markdown",
   "metadata": {},
   "source": [
    "In this script you can analyse a single simulation in critical exporations.\n",
    "\n",
    "It can be split in two parts:\n",
    "\n",
    "-The first examines the behaviour of various quantities (scalar field, lapse, Ricci scalar etc) at r=0. To have good results it is suggested that you run with an infalling outer boundary rmax, but this analyses also works as is, with fixed rmax.\n",
    "\n",
    "-The second part analyses these quantities both in time and space. They are ploted as functions of the radial domain r, for different timesteps. As is, the analysis assumes an infalling rmax, and so it loads the radial grid r for every timestep. If you run with a fixed timestep, you have to modify that specific part. "
   ]
  },
  {
   "cell_type": "code",
   "execution_count": null,
   "metadata": {},
   "outputs": [],
   "source": [
    "# load packages\n",
    "using HDF5\n",
    "using LaTeXStrings\n",
    "using Plots; pythonplot()\n",
    "using DelimitedFiles\n",
    "using Interpolations\n",
    "using SpheriCo"
   ]
  },
  {
   "cell_type": "code",
   "execution_count": null,
   "metadata": {},
   "outputs": [],
   "source": [
    "# give the directory where the data from all the runs are saved\n",
    "base = \"../examples/classical_runs/\"\n",
    "par = \"a0.0449_b5.0_c1.0_rmax11.76_tmax11.75_cfl0.125_sigma0.02_infalling_rmax_true_rand_false_overMp2_25.132741228718345_damp0\"\n",
    "\n",
    "dir = base*par\n",
    "# convention of 1/M_Planck^2; set manually\n",
    "oMp2 = 25.132741228718345"
   ]
  },
  {
   "cell_type": "code",
   "execution_count": null,
   "metadata": {},
   "outputs": [],
   "source": [
    "# set resolution manually (number of points in radial domain)\n",
    "D = 5\n",
    "Nr = (2^D)*128 + 3\n",
    "\n",
    "# list all available iterations (and corresponding files)\n",
    "(its, all_filenames) = list_h5_files(dir*\"/data_$(Nr)\", prefix=\"r0data_\")\n",
    "println(length(its))"
   ]
  },
  {
   "cell_type": "markdown",
   "metadata": {},
   "source": [
    "Load the data at r=0, for the lapse, scalar field, Ricci scalar, Hamiltonian and momentum constraint violation, as well as the difference between the metric functions A,B and the extrinsic curvature components KA, KB."
   ]
  },
  {
   "cell_type": "code",
   "execution_count": null,
   "metadata": {},
   "outputs": [],
   "source": [
    "# the classical state vector is:\n",
    "#v_classic_labels = [\"Φ\", \"Π\", \"Ψ\", \"A\", \"B\", \"DB\", \"Utld\", \"K\", \"KB\", \"λ\", \"α\", \"Dα\", \"Θ\", \"Zr\", \"f\", \"g\", \"U\", \"V\"]\n",
    "\n",
    "# initiate lists to save the data at r=0, for all the timesteps for which r0data type is saved\n",
    "# lapse\n",
    "α_r0_t         = zeros(length(its));\n",
    "# scalar field\n",
    "Φ_r0_t         = zeros(length(its));\n",
    "# Ricci scalar\n",
    "R_r0_t         = zeros(length(its));\n",
    "# Hamiltonian constraint violation\n",
    "H_r0_t         = zeros(length(its));\n",
    "# momentum constraint violation\n",
    "P_r0_t         = zeros(length(its));\n",
    "# difference of metric functions A,B\n",
    "AminusB_r0_t   = zeros(length(its));\n",
    "# difference of extrinsic curvature components KA, KB\n",
    "KAminusKB_r0_t = zeros(length(its));\n",
    "\n",
    "# list of timesteps\n",
    "t_list = zeros(length(its));\n",
    "\n",
    "# pass through all the saved timesteps and save the corresponding data\n",
    "for i in 1:length(its)\n",
    "    it = its[i]\n",
    "    it_str  = lpad(it, 4, \"0\")\n",
    "\n",
    "    # load the classical state vector\n",
    "    v = h5read(dir*\"/data_$(Nr)/r0data_$(it_str).h5\",\"v\")\n",
    "    # load the radial grid \n",
    "    r = h5read(dir*\"/data_$(Nr)/r0data_$(it_str).h5\",\"r\")\n",
    "    # calculate grid spacing\n",
    "    dr = r[4] - r[3]\n",
    "    # timestep\n",
    "    t = h5readattr(dir*\"/data_$(Nr)/r0data_$(it_str).h5\", \"/\")[\"time\"]\n",
    "    # calculate Hamitlonian (H) and momentum (P) constraint violation\n",
    "    H, P = SpheriCo.classical.constraints(v, dr, oMp2);\n",
    "    # calculate the Ricci scalar\n",
    "    R  = SpheriCo.Ricci_scalar(v, r, oMp2);\n",
    "\n",
    "    # store the data in the corrsponding lists\n",
    "    α_r0_t[i] = v[3,11]\n",
    "    Φ_r0_t[i] = v[3,1]\n",
    "    R_r0_t[i] = R[3]\n",
    "    H_r0_t[i] = H[3]\n",
    "    P_r0_t[i] = P[3]\n",
    "    AminusB_r0_t[i] = v[3,4]-v[3,5] # A-B\n",
    "    KAminusKB_r0_t[i] = v[3,8]-3*v[3,9] #K - 3*KB\n",
    "\n",
    "    # store timesteps\n",
    "    t_list[i] = t\n",
    "end"
   ]
  },
  {
   "cell_type": "code",
   "execution_count": null,
   "metadata": {},
   "outputs": [],
   "source": [
    "# find proper time at r=0\n",
    "dt = t_list[2]-t_list[1];\n",
    "proper_time_list = zeros(length(t_list));\n",
    "for i in 2:length(proper_time_list)\n",
    "    proper_time_list[i] = proper_time_list[i-1] + α_r0_t[i]*dt\n",
    "end"
   ]
  },
  {
   "cell_type": "markdown",
   "metadata": {},
   "source": [
    "We want to find similarity time, which is useful in the plots to see better the behaviour at r=0. For this, we need two pairs of consequtive zero crossings. Accumulation time is roughly when the scalar field starts to oscilate fast at r=0."
   ]
  },
  {
   "cell_type": "code",
   "execution_count": null,
   "metadata": {},
   "outputs": [],
   "source": [
    "# find accumulation time; we need two pairs of consequtive zero crossings\n",
    "test_sign = sign(Φ_r0_t[1])\n",
    "zero_crossings = []\n",
    "for i in 1:length(proper_time_list)\n",
    "    if test_sign != sign(Φ_r0_t[i])\n",
    "        append!(zero_crossings, proper_time_list[i])\n",
    "        test_sign = sign(Φ_r0_t[i])\n",
    "    end\n",
    "end\n",
    "println(zero_crossings)"
   ]
  },
  {
   "cell_type": "markdown",
   "metadata": {},
   "source": [
    "Plot the scalar field at r=0 against coordinate time. Near criticallity the scalar field is expected to oscillate between +-0.6, regardless of the initial data. This is sometimes refered to as universality of solutions in spherically symmetric gravitational critical phenomena."
   ]
  },
  {
   "cell_type": "code",
   "execution_count": null,
   "metadata": {},
   "outputs": [],
   "source": [
    "ti = 1 # timestep in t_list when you start ploting\n",
    "tf = length(proper_time_list) # timestep in t_list when you stop ploting\n",
    "plot(t_list[ti:tf], Φ_r0_t[ti:tf], title = \"r=0\",  label=\"Φ(t)\", linewidth=3, legend=:topleft)\n",
    "plot!(t_list[ti:tf], -0.6*ones(tf), linewidth=1, color=\"black\", label=\"\")\n",
    "plot!(t_list[ti:tf], 0.6*ones(tf), linewidth=1, color=\"black\", label=\"\")"
   ]
  },
  {
   "cell_type": "markdown",
   "metadata": {},
   "source": [
    "Plot the lapse at r=0, against coordinate time:"
   ]
  },
  {
   "cell_type": "code",
   "execution_count": null,
   "metadata": {},
   "outputs": [],
   "source": [
    "ti = 1\n",
    "tf = length(proper_time_list)\n",
    "plot(t_list[ti:tf], α_r0_t[ti:tf], title = \"r=0\",  label=\"α(t)\", linewidth=3, legend=:topleft)"
   ]
  },
  {
   "cell_type": "markdown",
   "metadata": {},
   "source": [
    "Plot the scalar field at r=0, against the proper time at r=0:"
   ]
  },
  {
   "cell_type": "code",
   "execution_count": null,
   "metadata": {},
   "outputs": [],
   "source": [
    "ti = 1\n",
    "tf = length(proper_time_list)\n",
    "plot(proper_time_list[ti:tf], Φ_r0_t[ti:tf], title = \"r=0\",  label=L\"Φ(\\tau,r=0)\", linewidth=3)"
   ]
  },
  {
   "cell_type": "markdown",
   "metadata": {},
   "source": [
    "Find the similarity time. This is usefule to see better the behaviour of the scalar field (and other quantities) at r=0 near criticality. It requires finding first the accumulation time, which needs four consequtive zero crossings of the scalar field (oscilations passing through the value zero)."
   ]
  },
  {
   "cell_type": "code",
   "execution_count": null,
   "metadata": {},
   "outputs": [],
   "source": [
    "# print the consequtive zero crossings\n",
    "println(\"zero crossings: \", zero_crossings)\n",
    "# choose the pairs of consequtive zero crossings used to calculate the accumulation time\n",
    "un = zero_crossings[1]\n",
    "unplus1 = zero_crossings[2]\n",
    "um = zero_crossings[3]\n",
    "umplus1 = zero_crossings[4]\n",
    "# evaluate the formula for accumulation time\n",
    "accum_time = (un*umplus1 - unplus1*um)/(un - unplus1 - um + umplus1)\n",
    "# print the accumulation time\n",
    "println(\"accumulation time: \", accum_time)\n",
    "# find the similarity time T = -ln(u*-u), where u is proper time at r=0 and u* accumulationtime\n",
    "similarity_time = []\n",
    "i = 1\n",
    "while proper_time_list[i] < accum_time\n",
    "    T = -log(accum_time - proper_time_list[i])\n",
    "    append!(similarity_time, T)\n",
    "    i += 1\n",
    "end\n",
    "#println(similarity_time)"
   ]
  },
  {
   "cell_type": "code",
   "execution_count": null,
   "metadata": {},
   "outputs": [],
   "source": [
    "ti = 1\n",
    "tf = length(similarity_time)\n",
    "\n",
    "plot(similarity_time[ti:tf], Φ_r0_t[ti:tf], title = \"r=0\",  label=L\"\\Phi(\\tau)\", linewidth=3)\n",
    "plot!([0.6], seriestype=\"hline\", label=\"0.6\", linewidth=3, color = \"black\")\n",
    "p1 = plot!([-0.6], seriestype=\"hline\", label=\"-0.6\", linewidth=3, color = \"black\", xaxis=nothing, frame=true)\n",
    "\n",
    "p2 = plot(similarity_time[ti:tf], α_r0_t[ti:tf], label=L\"\\alpha(\\tau)\", linewidth=3, xaxis=nothing, frame=true)\n",
    "\n",
    "p3 = plot(similarity_time[ti:tf], abs.(R_r0_t[ti:tf]), label=L\"|R(\\tau)|\", linewidth=3, xaxis=nothing, frame=true)\n",
    "\n",
    "p4 = plot(similarity_time[ti:tf], abs.(H_r0_t[ti:tf]), label=L\"|H(\\tau)|\", linewidth=3, xaxis=nothing, frame=true)\n",
    "\n",
    "p5 = plot(similarity_time[ti:tf], abs.(P_r0_t[ti:tf]), label=L\"|P(\\tau)|\", linewidth=3, xaxis=nothing, frame=true)\n",
    "\n",
    "p6 = plot(similarity_time[ti:tf], abs.(AminusB_r0_t[ti:tf]), label=L\"|A(\\tau)-B(\\tau)|\", linewidth=3, frame=true,\n",
    "xlabel=\"similarity time\")\n",
    "\n",
    "p7 = plot(similarity_time[ti:tf], abs.(KAminusKB_r0_t[ti:tf]), label=L\"|K_A(\\tau)-K_B(\\tau)|\", linewidth=3, frame=true,\n",
    "xlabel=\"similarity time\")\n",
    "\n",
    "plt = plot(p1, p3, p4, p5, p6, p7, \n",
    "    layout = grid(3, 2),\n",
    "    wsize = (800,600))\n",
    "\n",
    "# uncomment if you want to save the figure, and modify appropriately\n",
    "#savefig(plt, \"./critical/\"*par*\"_D$(D).pdf\")"
   ]
  },
  {
   "cell_type": "markdown",
   "metadata": {},
   "source": [
    "Plot the proper time at r=0, against coordinate time:"
   ]
  },
  {
   "cell_type": "code",
   "execution_count": null,
   "metadata": {},
   "outputs": [],
   "source": [
    "plot(t_list[1:end], proper_time_list[1:end], title = \"r=0\",  label=\"proper_time_r0(t)\",\n",
    "    linewidth=3, frame=true, legend=:topleft, xlabel=\"time\", ylabel=\"proper time @ r=0\")"
   ]
  },
  {
   "cell_type": "markdown",
   "metadata": {},
   "source": [
    "Below you can create animations that show the evolution e.g. of the scalar field (or other quantities) in the whole radial domain, for the different timesteps. For this you need the data type \"data\" and not \"r0data\". If you run with an infalling rmax, then \"data\" also saves the radial grid at each timestep, otherwise not.\n",
    "\n",
    "List all the \"data\" files:"
   ]
  },
  {
   "cell_type": "code",
   "execution_count": null,
   "metadata": {},
   "outputs": [],
   "source": [
    "# list all available iterations (and corresponding files)\n",
    "(its2, all_filenames2) = list_h5_files(dir*\"/data_$(Nr)\", prefix=\"data_\")\n",
    "println(length(its2))"
   ]
  },
  {
   "cell_type": "code",
   "execution_count": null,
   "metadata": {},
   "outputs": [],
   "source": [
    "# the classical state vector is:[\"Φ\", \"Π\", \"Ψ\", \"A\", \"B\", \"DB\", \"Utld\", \"K\", \"KB\", \"λ\", \"α\", \"Dα\", \"Θ\", \"Zr\", \"f\", \"g\", \"U\", \"V\"]\n",
    "v_classic_labels = [\"Φ\", \"Π\", \"Ψ\", \"A\", \"B\", \"DB\", \"Utld\", \"K\", \"KB\", \"λ\", \"α\", \"Dα\", \"Θ\", \"Zr\", \"f\", \"g\", \"U\", \"V\"]\n",
    "\n",
    "# choose the index that corresponds to the function you want to plot, in the state vector\n",
    "fi = 1 # 1 is the scalar field Φ\n",
    "\n",
    "# set the step for the animation below (if you have many steps saved it takes a while). Suggestion: use powers of 2\n",
    "step = 2^0\n",
    "anim = @animate for i ∈ 1:step:length(its2)\n",
    "    it = its2[i]\n",
    "    it_str  = lpad(it, 4, \"0\")\n",
    "    f  =  h5read(dir*\"/data_$(Nr)/data_$(it_str).h5\",\"v\")[:,fi]\n",
    "    t  =  h5readattr(dir*\"/data_$(Nr)/data_$(it_str).h5\", \"/\")[\"time\"]\n",
    "    # if you run with fixed rmax, comment the line below\n",
    "    r  =  h5read(dir*\"/data_$(Nr)/data_$(it_str).h5\",\"r\")\n",
    "\n",
    "    plot(r[3:end], f[3:end], title = \"t=$(t)\", label=v_classic_labels[fi], linewidth=3)\n",
    "end\n",
    "\n",
    "# creates a movies directory within the tools directory, and saves the gif\n",
    "if ispath(\"./movies/\")==false\n",
    "    mkpath(\"./movies/\")\n",
    "end\n",
    "\n",
    "gif(anim, \"./movies/\"*v_classic_labels[fi]*\".gif\", fps = 5) # fps is frames per second; the larger it is the faster the gif"
   ]
  },
  {
   "cell_type": "code",
   "execution_count": null,
   "metadata": {},
   "outputs": [],
   "source": [
    "# set the step for the animation below (if you have many steps saved it takes a while). Suggestion: use powers of 2\n",
    "step = 2^2\n",
    "\n",
    "anim = @animate for i ∈ 1:step:length(its2)\n",
    "    it = its2[i]#[i] for when they are saved on common timesteps # otherwise [1+i]\n",
    "    it_str  = lpad(it, 4, \"0\")\n",
    "\n",
    "    # load the classical state vector\n",
    "    v = h5read(dir*\"/data_$(Nr)/data_$(it_str).h5\",\"v\")\n",
    "    # load the radial grid; if you run with fixed rmax, comment the two lines below out\n",
    "    r = h5read(dir*\"/data_$(Nr)/data_$(it_str).h5\",\"r\")\n",
    "    # calculate grid spacing\n",
    "    dr = r[4] - r[3]\n",
    "    # timestep\n",
    "    t = h5readattr(dir*\"/data_$(Nr)/data_$(it_str).h5\", \"/\")[\"time\"]\n",
    "    # calculate Hamitlonian (H) and momentum (P) constraint violation\n",
    "    H, P = SpheriCo.classical.constraints(v, dr, oMp2);\n",
    "    # calculate the Ricci scalar\n",
    "    R  = SpheriCo.Ricci_scalar(v, r, oMp2);\n",
    "    # lapse\n",
    "    α = v[:,11]\n",
    "    # scalar\n",
    "    Φ = v[:,1]\n",
    "    \n",
    "    # ri and rf are start and finish of the radial grid in the plots\n",
    "    ri = 3\n",
    "    # change if you want to not plot rmax\n",
    "    rf = length(r) -100 #  removing points near rmax, because the violations there are bigger but not relevant\n",
    "    \n",
    "    # Plots\n",
    "    p1 = plot(r[ri:rf], Φ[ri:rf], title = \"t=$(t)\",  label=L\"\\Phi(r)\", linewidth=3, frame=true, xaxis=nothing)\n",
    "    p2 = plot(r[ri:rf], abs.(R[ri:rf]), label=L\"|R(r)|\", linewidth=3, frame=true, xaxis=nothing)\n",
    "    p3 = plot(r[ri:rf], α[ri:rf], label=L\"\\alpha(r)\", linewidth=3, frame=true, xaxis=nothing)\n",
    "    p4 = plot(r[ri:rf], abs.(H[ri:rf]),  label=L\"|H(r)|\", linewidth=3, frame=true, xlabel=\"r\")\n",
    "    p5 = plot(r[ri:rf], abs.(P[ri:rf]), label=L\"|P(r)|\", linewidth=3, frame=true, xlabel=\"r\")\n",
    "    \n",
    "    plot(p1, p2, p3, p4, p5, layout=(3,2), wsize = (800,600))\n",
    "end\n",
    "\n",
    "gif(anim, \"./movies/Phi_lapse_R_H_P.gif\", fps = 5)"
   ]
  }
 ],
 "metadata": {
  "kernelspec": {
   "display_name": "Julia 1.10.0",
   "language": "julia",
   "name": "julia-1.10"
  },
  "language_info": {
   "file_extension": ".jl",
   "mimetype": "application/julia",
   "name": "julia",
   "version": "1.10.0"
  }
 },
 "nbformat": 4,
 "nbformat_minor": 4
}
