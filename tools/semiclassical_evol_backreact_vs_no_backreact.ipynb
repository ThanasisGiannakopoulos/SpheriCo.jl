{
 "cells": [
  {
   "cell_type": "markdown",
   "id": "ca3e02b5-d9a0-4cdd-a7f8-322699b096ec",
   "metadata": {},
   "source": [
    "Compare a simulation with and without backreaction. You need to run the same setup, only with this difference. You also need to save \"data\", \"bilinears\", and \"quantum\" (this is what the script includes, you can remove something if you prefer). You could also compare \"correlators\"."
   ]
  },
  {
   "cell_type": "code",
   "execution_count": null,
   "id": "f1fd4bd5",
   "metadata": {},
   "outputs": [],
   "source": [
    "using HDF5\n",
    "using LaTeXStrings\n",
    "using Plots ; pythonplot()\n",
    "using DelimitedFiles\n",
    "using SpheriCo"
   ]
  },
  {
   "cell_type": "code",
   "execution_count": null,
   "id": "9c3f8f8e",
   "metadata": {},
   "outputs": [],
   "source": [
    "# give the directory where the data from all the runs are saved\n",
    "dir = \"../examples/quantum_runs/\"\n",
    "par1 = \"a0.4_b0.0_c4.0_rmax15.0_tmax7.0_cfl0.0625_sigma0.0_overMp2_25.132741228718345_reg_true_backreact_true_rcut12.0_mPV1.0_dk_denom_15_kmax10.0_lmax30.0\"\n",
    "par2 = \"a0.4_b0.0_c4.0_rmax15.0_tmax7.0_cfl0.0625_sigma0.0_overMp2_25.132741228718345_reg_true_backreact_false_mPV1.0_dk_denom_15_kmax10.0_lmax30.0\"\n",
    "\n",
    "your_dir1 = dir*par1\n",
    "your_dir2 = dir*par2\n",
    "\n",
    "# set manually, match the one of the simulation\n",
    "mPV = 1.0\n",
    "CC = -log(3^9/2^16)*(mPV^4)/(8*(2*π)^2);\n",
    "#println(\"CC=\",CC)\n",
    "\n",
    "# convention\n",
    "hbar = 1.0;\n",
    "c = 1.0;"
   ]
  },
  {
   "cell_type": "code",
   "execution_count": null,
   "id": "ddb4caa1",
   "metadata": {},
   "outputs": [],
   "source": [
    "# number of radial grid points\n",
    "D = 3\n",
    "Nr = 128*2^D + 3 # the overal course graining\n",
    "\n",
    "# load the r grid\n",
    "r = h5read(your_dir1*\"/data_$(Nr)/r.h5\",\"r\")\n",
    "dr = r[2] - r[1]\n",
    "# needed later\n",
    "id = ones(length(r));\n",
    "\n",
    "# list all available iterations (and corresponding files)\n",
    "(its, all_filenames)           = list_h5_files(your_dir1*\"/data_$(Nr)\", prefix=\"data_\");\n",
    "(its_bln, all_filenames_bln)   = list_h5_files(your_dir1*\"/data_$(Nr)\", prefix=\"bilinears_\");\n",
    "(its_quantum, all_filenames_quantum)   = list_h5_files(your_dir1*\"/data_$(Nr)\", prefix=\"quantum_\");\n",
    "\n",
    "# list of iterations with saved data for the different data-types\n",
    "println(\"length(its)=\",length(its))\n",
    "println(\"its\",its)\n",
    "\n",
    "println(\"length(its_bln)=\",length(its_bln))\n",
    "println(\"its_bln=\",its_bln)\n",
    "\n",
    "println(\"length(its_quantum)=\",length(its_quantum))\n",
    "println(\"its_quantum=\",its_quantum)"
   ]
  },
  {
   "cell_type": "markdown",
   "id": "b38bd248-b478-4040-bf7c-cf4462aae59b",
   "metadata": {},
   "source": [
    "The filter below is used to reconstruct the filter in the backreaction case. Set r_cut and n manually to the values used in the simulation. Needed later."
   ]
  },
  {
   "cell_type": "code",
   "execution_count": null,
   "id": "fd35a6d5-13d2-49a7-8f11-316ad0950780",
   "metadata": {},
   "outputs": [],
   "source": [
    "r_cut = 12\n",
    "Nr = length(r)\n",
    "n = 1.5\n",
    "filter = zeros(Nr)\n",
    "filter[3:end] = 0.5*ones(Nr-2) + 0.5*tanh.(-r[3:end].^n .+ (r_cut^n).*ones(Nr-2))\n",
    "filter[2]=filter[4]\n",
    "filter[1]=filter[5];"
   ]
  },
  {
   "cell_type": "code",
   "execution_count": null,
   "id": "f631f790-aa27-4661-8ed7-913b42867e01",
   "metadata": {},
   "outputs": [],
   "source": [
    "# iteration when you want to do the comparison\n",
    "it = 50\n",
    "\n",
    "it_data = its[it]\n",
    "it_str_data  = lpad(it_data, 4, \"0\")\n",
    "\n",
    "it_bln = its_bln[it]\n",
    "it_str_bln  = lpad(it_bln, 4, \"0\")\n",
    "\n",
    "it_quantum = its_quantum[it]\n",
    "it_str_quantum  = lpad(it_quantum, 4, \"0\")\n",
    "\n",
    "v_classic_labels = [\"Φ\", \"Π\", \"Ψ\", \"A\", \"B\", \"DB\", \"Utld\", \"K\", \"KB\", \"λ\", \"α\", \"Dα\", \"Θ\", \"Zr\", \"f\", \"g\", \"U\", \"V\"]\n",
    "# dir 1\n",
    "v1 = h5read(your_dir1*\"/data_$(Nr)/data_$(it_str_data).h5\",\"v\")\n",
    "Π1  = v1[:,2]\n",
    "Ψ1  = v1[:,3]\n",
    "A1  = v1[:,4]\n",
    "oA1 = 1.0./A1\n",
    "B1  = v1[:,5]\n",
    "oB1 = 1.0./B1\n",
    "KB1 = v1[:,9]\n",
    "α1  = v1[:,11]\n",
    "K1  = v1[:,8]\n",
    "\n",
    "bln1  = h5read(your_dir1*\"/data_$(Nr)/bilinears_$(it_str_bln).h5\",\"bilinears\")\n",
    "v_quantum1 = h5read(your_dir1*\"/data_$(Nr)/quantum_$(it_str_quantum).h5\",\"v\")\n",
    "\n",
    "# if there is an error when loading the time attribute, try to change \"./\" to \".\" or to \"/\" \n",
    "t_data1    =  h5readattr(your_dir1*\"/data_$(Nr)/data_$(it_str_data).h5\", \"/\")[\"time\"]\n",
    "t_bln1     =  h5readattr(your_dir1*\"/data_$(Nr)/bilinears_$(it_str_bln).h5\", \"/\")[\"time\"]\n",
    "t_quantum1 =  h5readattr(your_dir1*\"/data_$(Nr)/quantum_$(it_str_quantum).h5\", \"/\")[\"time\"]\n",
    "\n",
    "# dir 2\n",
    "v2 = h5read(your_dir2*\"/data_$(Nr)/data_$(it_str_data).h5\",\"v\")\n",
    "Π2  = v2[:,2]\n",
    "Ψ2  = v2[:,3]\n",
    "A2  = v2[:,4]\n",
    "oA2 = 1.0./A2\n",
    "B2  = v2[:,5]\n",
    "oB2 = 1.0./B2\n",
    "KB2 = v2[:,9]\n",
    "α2  = v2[:,11]\n",
    "K2  = v2[:,8]\n",
    "\n",
    "bln2  = h5read(your_dir2*\"/data_$(Nr)/bilinears_$(it_str_bln).h5\",\"bilinears\")\n",
    "v_quantum2 = h5read(your_dir2*\"/data_$(Nr)/quantum_$(it_str_quantum).h5\",\"v\")\n",
    "\n",
    "# if there is an error when loading the time attribute, try to change \"./\" to \".\" or to \"/\" \n",
    "t_data2    =  h5readattr(your_dir2*\"/data_$(Nr)/data_$(it_str_data).h5\", \"/\")[\"time\"]\n",
    "t_bln2     =  h5readattr(your_dir2*\"/data_$(Nr)/bilinears_$(it_str_bln).h5\", \"/\")[\"time\"]\n",
    "t_quantum2 =  h5readattr(your_dir2*\"/data_$(Nr)/quantum_$(it_str_quantum).h5\", \"/\")[\"time\"]\n",
    "\n",
    "# checks if time instant is the same for all types of data\n",
    "@assert t_data1 ≈ t_bln1 ≈ t_quantum1 ≈ t_data2 ≈ t_bln2 ≈ t_quantum2\n",
    "\n",
    "#dir 1\n",
    "# classical\n",
    "ρ1  = 0.5.*oA1.*((oB1.^2.0).*(Π1.^2.0) .+ Ψ1.^2.0)\n",
    "jA1 = -(oA1.^0.5).*oB1.*Π1.*Ψ1\n",
    "SA1 = 0.5.*oA1.*((oB1.^2.0).*(Π1.^2.0) .+ Ψ1.^2.0)\n",
    "SB1 = 0.5.*oA1.*((oB1.^2.0).*(Π1.^2.0) .- Ψ1.^2.0)\n",
    "\n",
    "ρ_quantum1 = @. (hbar*c^2/(4.0*π))*((0.5/α1^2)*bln1[:,2] + (0.5/A1)*bln1[:,3] + (1/B1)*bln1[:,5] + 0.5*bln1[:,1] );\n",
    "jA_quantum1 = @. -(hbar*c^2/(4.0*π))*(1.0/α1)*bln1[:,4];\n",
    "SA_quantum1 = @. (hbar*c^2/(4.0*π))*( (0.5/α1^2)*bln1[:,2] + (0.5/A1)*bln1[:,3] - (1/B1)*bln1[:,5] - 0.5*bln1[:,1] );\n",
    "SB_quantum1 = @. (hbar*c^2/(4.0*π))*( (0.5/α1^2)*bln1[:,2] -(0.5/A1)*bln1[:,3] - 0.5*bln1[:,1] );\n",
    "\n",
    "ρ_full1 = ρ1 + real.(ρ_quantum1).*filter\n",
    "SA_full1 = SA1 + real.(SA_quantum1).*filter\n",
    "SB_full1 = SB1 + real.(SB_quantum1).*filter\n",
    "jA_full1 = jA1 + real.(jA_quantum1).*filter\n",
    "\n",
    "# matter content (sources) in K rhs ~ 0.5*SA + SB - Λ + 0.5*ρ\n",
    "source_K1 = @. 0.5*SA_full1 + SB_full1 - CC*id*filter + 0.5*ρ_full1;\n",
    "# matter content (sources) in KB rhs ~ SA - 2*Λ - ρ\n",
    "source_KB1 = @. SA_full1 - 2.0*CC*id*filter - ρ_full1;\n",
    "\n",
    "#dir 2\n",
    "# classical\n",
    "ρ2  = 0.5.*oA2.*((oB2.^2.0).*(Π2.^2.0) .+ Ψ2.^2.0)\n",
    "jA2 = -(oA2.^0.5).*oB2.*Π2.*Ψ2\n",
    "SA2 = 0.5.*oA2.*((oB2.^2.0).*(Π2.^2.0) .+ Ψ2.^2.0)\n",
    "SB2 = 0.5.*oA2.*((oB2.^2.0).*(Π2.^2.0) .- Ψ2.^2.0)\n",
    "\n",
    "ρ_quantum2 = @. (hbar*c^2/(4.0*π))*((0.5/α2^2)*bln2[:,2] + (0.5/A2)*bln2[:,3] + (1/B2)*bln2[:,5] + 0.5*bln2[:,1] );\n",
    "jA_quantum2 = @. -(hbar*c^2/(4.0*π))*(1.0/α2)*bln2[:,4];\n",
    "SA_quantum2 = @. (hbar*c^2/(4.0*π))*( (0.5/α2^2)*bln2[:,2] + (0.5/A2)*bln2[:,3] - (1/B2)*bln2[:,5] - 0.5*bln2[:,1] );\n",
    "SB_quantum2 = @. (hbar*c^2/(4.0*π))*( (0.5/α2^2)*bln2[:,2] -(0.5/A2)*bln2[:,3] - 0.5*bln2[:,1] );\n",
    "\n",
    "ρ_full2 = ρ2 + real.(ρ_quantum2)\n",
    "SA_full2 = SA2 + real.(SA_quantum2)\n",
    "SB_full2 = SB2 + real.(SB_quantum2)\n",
    "jA_full2 = jA2 + real.(jA_quantum2)\n",
    "\n",
    "# matter content (sources) in K rhs = α(0.5*SA + SB - Λ + 0.5*ρ)/Mp^2\n",
    "source_K2 = 0.5*SA_full2 + SB_full2 + 0.5*ρ_full2;\n",
    "# matter content (sources) in KB rhs = 0.5*α(SA - Λ - ρ)/Mp^2\n",
    "source_KB2 = SA_full2 - ρ_full2;"
   ]
  },
  {
   "cell_type": "markdown",
   "id": "4df6e9b7-f9a8-45e1-b79e-67eae402d289",
   "metadata": {},
   "source": [
    "Plot various quantities for comparison."
   ]
  },
  {
   "cell_type": "markdown",
   "id": "119894a3-23e6-4b52-8c71-539a4181d0bc",
   "metadata": {},
   "source": [
    "The stucture of the bilinears:\n",
    "\n",
    "bilin[:,1] = (4*π)/(hbar*c^2)* [μ^2*<Φ^2>]_quantum = Sum_{kl} μ^2*(2l+1)*|utld_kl|^2;\n",
    "\n",
    "bilin[:,2] = (4*π*α^2)/(hbar*c^2*A*B^2)* <Π^2>_quantum = Sum_{kl} dk*(2*l+1)*|∂_t utld_kl|^2\n",
    "\n",
    "bilin[:,3] = (4*π)/(hbar*c^2)* <Ψ^2>_quantum = Sum_{kl} dk*(2l+1)*|∂_r utld_kl|^2\n",
    "\n",
    "bilin[:,4] = (4*π*α)/(hbar*c^2*A^(1/2)*B)* <Π*Ψ>_quantum = Sum_{kl} dk*0.5*(2*l+1)[(∂_r utld_kl)*conj(∂_t utld_kl) + conj(∂_r utld_kl)(∂_t utld_kl)]\n",
    "\n",
    "bilin[:,5] = (4*π)/(hbar*c^2)* [(1/r^2)*<∂_θ Φ^2>]_quantum = Sum_{kl} dk*0.5*l*(l+1)*(2l+1)*|r^(l-1)*u_kl|^2;"
   ]
  },
  {
   "cell_type": "code",
   "execution_count": null,
   "id": "f93f6ff2-5114-41ec-a318-8b4ce5cac115",
   "metadata": {},
   "outputs": [],
   "source": [
    "ri_min = 3\n",
    "ri_max = 1*512\n",
    "bln_i = 4\n",
    "\n",
    "blni1 = bln1[:,bln_i]\n",
    "blni2 = bln2[:,bln_i]\n",
    "\n",
    "plot(r[ri_min:ri_max], real.(blni1)[ri_min:ri_max], title = \"t=$(t_bln1)\",\n",
    "     label = \"Re(bln1[$(bln_i)])\", linewidth = 2, frame = true, wsize = (800,400), legend=:bottomright)\n",
    "\n",
    "plot!(r[ri_min:ri_max], real.(blni2)[ri_min:ri_max],\n",
    "     label = \"Re(bln2[$(bln_i)])\", linewidth = 2, frame = true)\n"
   ]
  },
  {
   "cell_type": "code",
   "execution_count": null,
   "id": "7245dc74-2ad3-4060-b752-715aa5480643",
   "metadata": {},
   "outputs": [],
   "source": [
    "ri_min = 3\n",
    "ri_max = 512*1\n",
    "# choose l and k to choose a specific quantum mode\n",
    "ll = 5.0\n",
    "kk = 5.0\n",
    "# choose the mass index \n",
    "mi = 1\n",
    "# choose the function index (1 is uq, 2 is ψq, and 3 is πq\n",
    "fi = 1\n",
    "\n",
    "f1 = real.((v_quantum1)[:,Int(ll)+1,Int(kk),mi,fi]) \n",
    "f2 = real.((v_quantum2)[:,Int(ll)+1,Int(kk),mi,fi]) \n",
    "\n",
    "plot(r[ri_min:ri_max], f1[ri_min:ri_max], title = \"t=$(t_bln1)\",\n",
    "     label = \"f1\", linewidth = 2, frame = true, wsize = (800,400))\n",
    "\n",
    "plot!(r[ri_min:ri_max], f2[ri_min:ri_max],\n",
    "     label = \"f2\", linewidth = 2)\n"
   ]
  },
  {
   "cell_type": "code",
   "execution_count": null,
   "id": "ab2d13e7-893f-4d36-a0c1-e66fc740d62a",
   "metadata": {},
   "outputs": [],
   "source": [
    "ri_min = 3\n",
    "ri_max = 1*512\n",
    "\n",
    "plot(r[ri_min:ri_max], (ρ_full1)[ri_min:ri_max], title = \"t=$(t_bln1)\",\n",
    "     label = \"ρ_full1\", linewidth = 2, frame = true, wsize = (800,400), legend=:top)\n",
    "\n",
    "plot!(r[ri_min:ri_max], (ρ_full2)[ri_min:ri_max],\n",
    "     label = \"ρ_full2\", linewidth = 2)\n"
   ]
  },
  {
   "cell_type": "code",
   "execution_count": null,
   "id": "61c9e8f5-1d49-4bb1-91f2-a5b935b139cf",
   "metadata": {},
   "outputs": [],
   "source": [
    "ri_min = 3\n",
    "ri_max = 1*512\n",
    "\n",
    "plot(r[ri_min:ri_max], (SA_full1)[ri_min:ri_max], title = \"t=$(t_bln1)\",\n",
    "     label = \"SA_full1\", linewidth = 2, frame = true, wsize = (800,400), legend=:top)\n",
    "\n",
    "plot!(r[ri_min:ri_max], (SA_full2)[ri_min:ri_max],\n",
    "     label = \"SA_full2\", linewidth = 2)\n"
   ]
  },
  {
   "cell_type": "code",
   "execution_count": null,
   "id": "8eaf734a-7ab0-4e98-a788-e0d116808f1a",
   "metadata": {},
   "outputs": [],
   "source": [
    "ri_min = 3\n",
    "ri_max = 1*512\n",
    "\n",
    "plot(r[ri_min:ri_max], (SB_full1)[ri_min:ri_max], title = \"t=$(t_bln1)\",\n",
    "     label = \"SB_full1\", linewidth = 2, frame = true, wsize = (800,400), legend=:bottomright)\n",
    "\n",
    "plot!(r[ri_min:ri_max], (SB_full2)[ri_min:ri_max], label = \"SB_full2\", linewidth = 2)"
   ]
  },
  {
   "cell_type": "code",
   "execution_count": null,
   "id": "ab043f92-8535-4945-8d14-908db1e24581",
   "metadata": {},
   "outputs": [],
   "source": [
    "ri_min = 3\n",
    "ri_max = 1*512\n",
    "\n",
    "plot(r[ri_min:ri_max], source_K1[ri_min:ri_max], title = \"t=$(t_bln1)\",\n",
    "    label = \"source_K1\", linewidth = 2, frame = true, wsize = (800,400))\n",
    "\n",
    "plot!(r[ri_min:ri_max], source_K2[ri_min:ri_max], label = \"source_K2\", linewidth = 2)"
   ]
  },
  {
   "cell_type": "code",
   "execution_count": null,
   "id": "23c98d9c-fb0c-4e68-a669-eeff94ee3cca",
   "metadata": {},
   "outputs": [],
   "source": [
    "ri_min = 3\n",
    "ri_max = 1*512\n",
    "\n",
    "plot(r[ri_min:ri_max], source_KB1[ri_min:ri_max], title = \"t=$(t_bln1)\",\n",
    "     label = \"source_KB1\", linewidth = 2, frame = true, wsize = (800,400))\n",
    "\n",
    "plot!(r[ri_min:ri_max], source_KB2[ri_min:ri_max], label = \"source_KB2\", linewidth = 2)"
   ]
  },
  {
   "cell_type": "code",
   "execution_count": null,
   "id": "278be720-7c18-4a60-9dab-e77bcda15490",
   "metadata": {},
   "outputs": [],
   "source": [
    "ri_min = 3\n",
    "ri_max = 1*512\n",
    "\n",
    "plot(r[ri_min:ri_max], jA1[ri_min:ri_max], title = \"t=$(t_bln1)\",\n",
    "     label = \"jA1\", linewidth = 2, frame = true, wsize = (800,400))\n",
    "\n",
    "plot!(r[ri_min:ri_max], jA2[ri_min:ri_max], title = \"t=$(t_bln2)\",\n",
    "     label = \"jA2\", linewidth = 2)"
   ]
  },
  {
   "cell_type": "code",
   "execution_count": null,
   "id": "e32be3f4-d48a-429f-a0f1-de13a74bd857",
   "metadata": {},
   "outputs": [],
   "source": [
    "ri_min = 3\n",
    "ri_max = 2*512\n",
    "\n",
    "plot(r[ri_min:ri_max], α1[ri_min:ri_max], title = \"t=$(t_bln1)\",\n",
    "     label = \"α1\", linewidth = 2, frame = true, wsize = (800,400))\n",
    "\n",
    "plot!(r[ri_min:ri_max], α2[ri_min:ri_max], label = \"α2\", linewidth = 2)"
   ]
  },
  {
   "cell_type": "code",
   "execution_count": null,
   "id": "630e378c-bcf1-42a5-b849-d4332d1087d1",
   "metadata": {},
   "outputs": [],
   "source": [
    "ri_min = 3\n",
    "ri_max = 2*512\n",
    "\n",
    "plot(r[ri_min:ri_max], B1[ri_min:ri_max], title = \"t=$(t_bln1)\",\n",
    "     label = \"B1\", linewidth = 2, frame = true, wsize = (800,400))\n",
    "\n",
    "plot!(r[ri_min:ri_max], B2[ri_min:ri_max], label = \"B2\", linewidth = 2)\n"
   ]
  },
  {
   "cell_type": "code",
   "execution_count": null,
   "id": "98ca8802-df3c-47c9-8fff-c29d1888d568",
   "metadata": {},
   "outputs": [],
   "source": [
    "ri_min = 3\n",
    "ri_max = 2*512\n",
    "\n",
    "plot(r[ri_min:ri_max], A1[ri_min:ri_max], title = \"t=$(t_bln1)\",\n",
    "     label = \"A1\", linewidth = 2, frame = true, wsize = (800,400))\n",
    "\n",
    "plot!(r[ri_min:ri_max], A2[ri_min:ri_max], label = \"A2\", linewidth = 2)\n"
   ]
  },
  {
   "cell_type": "code",
   "execution_count": null,
   "id": "7f747b2d-f00c-4b90-877e-5c8fd709c215",
   "metadata": {},
   "outputs": [],
   "source": [
    "ri_min = 3\n",
    "ri_max = 2*512\n",
    "\n",
    "plot(r[ri_min:ri_max], K1[ri_min:ri_max], title = \"t=$(t_bln1)\",\n",
    "     label = \"K1\", linewidth = 2, frame = true, wsize = (800,400))\n",
    "\n",
    "plot!(r[ri_min:ri_max], K2[ri_min:ri_max], label = \"K2\", linewidth = 2)\n"
   ]
  },
  {
   "cell_type": "code",
   "execution_count": null,
   "id": "6892d037-ae75-4989-af17-0001c3722f2b",
   "metadata": {},
   "outputs": [],
   "source": [
    "ri_min = 3\n",
    "ri_max = 2*512\n",
    "\n",
    "plot(r[ri_min:ri_max], KB1[ri_min:ri_max], title = \"t=$(t_bln1)\",\n",
    "     label = \"KB1\", linewidth = 2, frame = true, wsize = (800,400))\n",
    "\n",
    "plot!(r[ri_min:ri_max], KB2[ri_min:ri_max], label = \"KB2\", linewidth = 2)\n"
   ]
  },
  {
   "cell_type": "code",
   "execution_count": null,
   "id": "846beec8-c0f7-4512-a92d-6f7235651139",
   "metadata": {},
   "outputs": [],
   "source": []
  }
 ],
 "metadata": {
  "kernelspec": {
   "display_name": "Julia 1.10.0",
   "language": "julia",
   "name": "julia-1.10"
  },
  "language_info": {
   "file_extension": ".jl",
   "mimetype": "application/julia",
   "name": "julia",
   "version": "1.10.0"
  }
 },
 "nbformat": 4,
 "nbformat_minor": 5
}
