{
 "cells": [
  {
   "cell_type": "markdown",
   "metadata": {},
   "source": [
    "Analyze various classical quantities in a single simulation. You need to store \"data\". It assumes a fixed rmax."
   ]
  },
  {
   "cell_type": "code",
   "execution_count": null,
   "metadata": {},
   "outputs": [],
   "source": [
    "# load packages\n",
    "using HDF5\n",
    "using LaTeXStrings\n",
    "using Plots; pythonplot()\n",
    "using DelimitedFiles\n",
    "using Interpolations\n",
    "using SpheriCo"
   ]
  },
  {
   "cell_type": "code",
   "execution_count": null,
   "metadata": {},
   "outputs": [],
   "source": [
    "# give the directory where the data from all the runs are saved\n",
    "base = \"../examples/classical_runs/\"\n",
    "your_dir = base*\"a0.5_b5.0_c2.0_rmax30_tmax15_cfl0.125_sigma0.0_infalling_rmax_false_rand_true_0.001_overMp2_25.132741228718345_damp0\"\n",
    "\n",
    "# convention of 1/M_Planck^2; set manually\n",
    "oMp2 = 25.132741228718345"
   ]
  },
  {
   "cell_type": "code",
   "execution_count": null,
   "metadata": {},
   "outputs": [],
   "source": [
    "# resolution\n",
    "D = 5\n",
    "Nr = 128*2^D + 3 \n",
    "\n",
    "# load the x grid\n",
    "r = h5read(your_dir*\"/data_$(Nr)/r.h5\",\"r\")\n",
    "dr = r[2] - r[1]\n",
    "\n",
    "# list all available iterations (and corresponding files)\n",
    "(its, all_filenames) = list_h5_files(your_dir*\"/data_$(Nr)\", prefix=\"data_\")\n",
    "println(length(its))"
   ]
  },
  {
   "cell_type": "code",
   "execution_count": null,
   "metadata": {},
   "outputs": [],
   "source": [
    "#it is the timestep we look at\n",
    "i = 65\n",
    "it = its[i]\n",
    "it_str  = lpad(it, 4, \"0\")\n",
    "\n",
    "v_classic_labels = [\"Φ\", \"Π\", \"Ψ\", \"A\", \"B\", \"DB\", \"Utld\", \"K\", \"KB\", \"λ\", \"α\", \"Dα\", \"Θ\", \"Zr\", \"f\", \"g\", \"U\", \"V\"]\n",
    "v = h5read(your_dir*\"/data_$(Nr)/data_$(it_str).h5\",\"v\")\n",
    "t = h5readattr(your_dir*\"/data_$(Nr)/data_$(it_str).h5\", \"/\")[\"time\"]\n",
    "\n",
    "Φ    = v[:,1]\n",
    "Π    = v[:,2]\n",
    "Ψ    = v[:,3]\n",
    "A    = v[:,4]\n",
    "B    = v[:,5]\n",
    "DB   = v[:,6]\n",
    "Utld = v[:,7]\n",
    "K    = v[:,8]\n",
    "KB   = v[:,9]\n",
    "λ    = v[:,10]\n",
    "α    = v[:,11]\n",
    "Dα   = v[:,12]\n",
    "Θ    = v[:,13]\n",
    "Zr   = v[:,14];\n"
   ]
  },
  {
   "cell_type": "markdown",
   "metadata": {},
   "source": [
    "The lapse at r=0, the location of the apparent horizon, and its area:"
   ]
  },
  {
   "cell_type": "code",
   "execution_count": null,
   "metadata": {},
   "outputs": [],
   "source": [
    "length(its)\n",
    "αt_r0 = zeros(length(its))\n",
    "AH_loc = zeros(length(its))\n",
    "AH_area = zeros(length(its))\n",
    "\n",
    "tt = zeros(length(its))\n",
    "for i in 1:length(its)\n",
    "    it = its[i]\n",
    "    it_str  = lpad(it, 4, \"0\")\n",
    "    αt_r0[i] = h5read(your_dir*\"/data_$(Nr)/data_$(it_str).h5\",\"v\")[1,11]\n",
    "    tt[i] = h5readattr(your_dir*\"/data_$(Nr)/data_$(it_str).h5\", \"/\")[\"time\"][1]\n",
    "\n",
    "    A     =  h5read(your_dir*\"/data_$((Nr-3)+ 3)/data_$(it_str).h5\",\"v\")[:,4]\n",
    "    B     =  h5read(your_dir*\"/data_$((Nr-3)+ 3)/data_$(it_str).h5\",\"v\")[:,5]    \n",
    "    KB     =  h5read(your_dir*\"/data_$((Nr-3)+ 3)/data_$(it_str).h5\",\"v\")[:,9]    \n",
    "    AH = find_AH(r, B, A, KB)\n",
    "\n",
    "    AH_loc[i] = AH\n",
    "\n",
    "    # the interpolation is needed because we take AH to be\n",
    "    # inbetween the two grid points where the sign of the expansion of null rays changes\n",
    "    B_intp = cubic_spline_interpolation(range(-2*dr, r[end], length=length(r)), B[:])\n",
    "    AH_area[i] = 4*π*AH^2*B_intp(AH)\n",
    "end\n"
   ]
  },
  {
   "cell_type": "code",
   "execution_count": null,
   "metadata": {},
   "outputs": [],
   "source": [
    "plot(tt[1:end], αt_r0[1:end], label=\"α(t, r=0)\", linewidth=3,\n",
    "    frame=true, xaxis=\"time\", title=\"r=0\", xlim=(tt[1],tt[end]))"
   ]
  },
  {
   "cell_type": "code",
   "execution_count": null,
   "metadata": {},
   "outputs": [],
   "source": [
    "plot(tt[1:end], AH_loc[1:end], label=L\"r_{AH}(t)\", linewidth=3, legend=:topleft,\n",
    "    frame=true, xaxis=\"time\", title=\"Apparent horizon location\", \n",
    "    yaxis=L\"r_{AH}\", xlim=(tt[1],tt[end]))"
   ]
  },
  {
   "cell_type": "code",
   "execution_count": null,
   "metadata": {},
   "outputs": [],
   "source": [
    "plot(tt[1:end], AH_area[1:end], label=L\"A_{AH}(t)\", linewidth=3, legend=:bottomright,\n",
    "    frame=true, xaxis=\"time\", title=\"Apparent horizon area\", \n",
    "    yaxis=L\"A_{AH}\", xlim=(tt[1],tt[end]))"
   ]
  },
  {
   "cell_type": "code",
   "execution_count": null,
   "metadata": {},
   "outputs": [],
   "source": [
    "# get index of r_c in coarse resol, for which  r[index] is the first causally connected point\n",
    "function find_ri_max_causal(your_dir::String, Nr::Int, its::Array)\n",
    "    it      = its[end]\n",
    "    it_str  = lpad(it, 4, \"0\")\n",
    "    tc_end  =  h5readattr(your_dir*\"/data_$(Nr)/data_$(it_str).h5\", \"/\")[\"time\"]\n",
    "    ii = 1\n",
    "    r_c = h5read(your_dir*\"/data_$(Nr)/r.h5\",\"r\")\n",
    "    while r_c[ii] != r_c[end] - tc_end\n",
    "        ii = ii + 1\n",
    "    end\n",
    "    ri_max_causal = ii-1\n",
    "    drc = r_c[4] - r_c[3]\n",
    "    r_c[ri_max_causal] == r_c[end] - tc_end - drc\n",
    "    return ri_max_causal\n",
    "end\n",
    "\n",
    "ri_max_causal = find_ri_max_causal(your_dir, Nr, its)"
   ]
  },
  {
   "cell_type": "code",
   "execution_count": null,
   "metadata": {},
   "outputs": [],
   "source": [
    "ri_min = 3\n",
    "ri_max = ri_max_causal\n",
    "\n",
    "AH = find_AH(r, B, A, KB)\n",
    "println(\"Apparent horizon is at r = \", AH)\n",
    "\n",
    "H, P = SpheriCo.classical.constraints(v, dr, oMp2);\n",
    "# calculate the Ricci scalar\n",
    "R  = SpheriCo.Ricci_scalar(v, r, oMp2);\n",
    "\n",
    "plot(r[ri_min:ri_max], Φ[ri_min:ri_max], title = \"t=$(t)\",  label=L\"\\Phi(r)\", linewidth = 3, frame = true,\n",
    "    xlim=(r[ri_min], r[ri_max]), xaxis=nothing)\n",
    "p1 = plot!([AH], seriestype=\"vline\", label=\"AH\", linewidth=1, color = \"black\")\n",
    "    \n",
    "plot(r[ri_min:ri_max], abs.(R[ri_min:ri_max]), label=L\"|R(r)|\", linewidth=3, frame=true,\n",
    "    xlim=(r[ri_min], r[ri_max]), xaxis=nothing)\n",
    "p2 = plot!([AH], seriestype=\"vline\", label=\"AH\", linewidth=1, color = \"black\") \n",
    "\n",
    "plot(r[ri_min:ri_max], α[ri_min:ri_max], label=L\"\\alpha(r)\", linewidth=3, frame=true,\n",
    "    xlim=(r[ri_min], r[ri_max]), xaxis=nothing)\n",
    "p3 = plot!([AH], seriestype=\"vline\", label=\"AH\", linewidth=1, color = \"black\") \n",
    "\n",
    "plot(r[ri_min:ri_max], abs.(H[ri_min:ri_max]), label=L\"|H(r)|\", linewidth=3, frame=true,\n",
    "    xlim=(r[ri_min], r[ri_max]), xaxis=\"r\")\n",
    "p4 = plot!([AH], seriestype=\"vline\", label=\"AH\", linewidth=1, color = \"black\")\n",
    "\n",
    "plot(r[ri_min:ri_max], abs.(P[ri_min:ri_max]), label=L\"|P(r)|\", linewidth=3, frame=true,\n",
    "    xlim=(r[ri_min], r[ri_max]), xaxis=\"r\")\n",
    "p5 = plot!([AH], seriestype=\"vline\", label=\"AH\", linewidth=1, color = \"black\") \n",
    "  \n",
    "plt = plot(p1, p2, p3, p4, p5, layout = grid(3, 2), wsize = (800,600))\n",
    "#savefig(plt, \"./classical_experiments/\"*par*\".pdf\")"
   ]
  },
  {
   "cell_type": "code",
   "execution_count": null,
   "metadata": {},
   "outputs": [],
   "source": [
    "function Φ_α_H_P_ric_evol(i::Int, ri_min, ri_max)\n",
    "    it = its[i]\n",
    "    it_str  = lpad(it, 4, \"0\")\n",
    "    \n",
    "    v = h5read(your_dir*\"/data_$(Nr)/data_$(it_str).h5\",\"v\")\n",
    "    t = h5readattr(your_dir*\"/data_$(Nr)/data_$(it_str).h5\", \"/\")[\"time\"]\n",
    "    \n",
    "    Φ    = v[:,1]\n",
    "    A    = v[:,4]\n",
    "    B    = v[:,5]\n",
    "    KB   = v[:,9]\n",
    "    α    = v[:,11]\n",
    "    \n",
    "    AH = find_AH(r, B, A, KB)\n",
    "    \n",
    "    H, P = SpheriCo.classical.constraints(v, dr, oMp2);\n",
    "    # calculate the Ricci scalar\n",
    "    R  = SpheriCo.Ricci_scalar(v, r, oMp2);\n",
    "    \n",
    "    plot(r[ri_min:ri_max], Φ[ri_min:ri_max], title = \"t=$(t)\",  label=L\"\\Phi(r)\", linewidth = 3, frame = true,\n",
    "        xlim=(r[ri_min], r[ri_max]), xaxis=nothing)\n",
    "    p1 = plot!([AH], seriestype=\"vline\", label=\"AH\", linewidth=1, color = \"black\")\n",
    "        \n",
    "    plot(r[ri_min:ri_max], abs.(R[ri_min:ri_max]), label=L\"|R(r)|\", linewidth=3, frame=true,\n",
    "        xlim=(r[ri_min], r[ri_max]), xaxis=nothing)\n",
    "    p2 = plot!([AH], seriestype=\"vline\", label=\"AH\", linewidth=1, color = \"black\") \n",
    "    \n",
    "    plot(r[ri_min:ri_max], α[ri_min:ri_max], label=L\"\\alpha(r)\", linewidth=3, frame=true,\n",
    "        xlim=(r[ri_min], r[ri_max]), xaxis=nothing)\n",
    "    p3 = plot!([AH], seriestype=\"vline\", label=\"AH\", linewidth=1, color = \"black\") \n",
    "    \n",
    "    plot(r[ri_min:ri_max], abs.(H[ri_min:ri_max]), label=L\"|H(r)|\", linewidth=3, frame=true,\n",
    "        xlim=(r[ri_min], r[ri_max]), xaxis=\"r\")\n",
    "    p4 = plot!([AH], seriestype=\"vline\", label=\"AH\", linewidth=1, color = \"black\")\n",
    "    \n",
    "    plot(r[ri_min:ri_max], abs.(P[ri_min:ri_max]), label=L\"|P(r)|\", linewidth=3, frame=true,\n",
    "        xlim=(r[ri_min], r[ri_max]), xaxis=\"r\")\n",
    "    p5 = plot!([AH], seriestype=\"vline\", label=\"AH\", linewidth=1, color = \"black\") \n",
    "      \n",
    "    plt = plot(p1, p2, p3, p4, p5, layout = grid(3, 2), wsize = (800,600))\n",
    "end"
   ]
  },
  {
   "cell_type": "code",
   "execution_count": null,
   "metadata": {},
   "outputs": [],
   "source": [
    "anim = @animate for i ∈ 1:length(its)\n",
    "    Φ_α_H_P_ric_evol(i, 3, ri_max_causal)\n",
    "end\n",
    "gif(anim, \"Φ_α_H_P_ric_evol.gif\", fps = 5)"
   ]
  },
  {
   "cell_type": "code",
   "execution_count": null,
   "metadata": {},
   "outputs": [],
   "source": [
    "function f_evol(i::Int, fi::Int, ri_min, ri_max)\n",
    "    it = its[i]\n",
    "    it_str  = lpad(it, 4, \"0\")\n",
    "    \n",
    "    A   =  h5read(your_dir*\"/data_$(Nr)/data_$(it_str).h5\",\"v\")[:,4]\n",
    "    B   =  h5read(your_dir*\"/data_$(Nr)/data_$(it_str).h5\",\"v\")[:,5]\n",
    "    KB   =  h5read(your_dir*\"/data_$(Nr)/data_$(it_str).h5\",\"v\")[:,9]\n",
    "\n",
    "    f   =  h5read(your_dir*\"/data_$(Nr)/data_$(it_str).h5\",\"v\")[:,fi]\n",
    "    t   =  h5readattr(your_dir*\"/data_$(Nr)/data_$(it_str).h5\", \"/\")[\"time\"]\n",
    "    \n",
    "    plot(r[ri_min:ri_max], f[ri_min:ri_max], title = \"t=$(t)\", label=v_classic_labels[fi], linewidth=3, frame=true, xaxis=\"r\")\n",
    "    plot!([AH], seriestype=\"vline\", label=\"AH\", linewidth=1, color = \"black\") \n",
    "    \n",
    "end\n",
    "\n"
   ]
  },
  {
   "cell_type": "code",
   "execution_count": null,
   "metadata": {},
   "outputs": [],
   "source": [
    "anim = @animate for i ∈ 1:length(its)\n",
    "    f_evol(i, 1, 3, ri_max_causal)\n",
    "end\n",
    "gif(anim, \"f_evol.gif\", fps = 5)"
   ]
  }
 ],
 "metadata": {
  "kernelspec": {
   "display_name": "Julia 1.10.0",
   "language": "julia",
   "name": "julia-1.10"
  },
  "language_info": {
   "file_extension": ".jl",
   "mimetype": "application/julia",
   "name": "julia",
   "version": "1.10.0"
  }
 },
 "nbformat": 4,
 "nbformat_minor": 4
}
