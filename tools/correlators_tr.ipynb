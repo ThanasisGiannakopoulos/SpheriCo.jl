{
 "cells": [
  {
   "cell_type": "markdown",
   "id": "b2666684-58fe-468b-8ba7-b4c512b8fa2b",
   "metadata": {},
   "source": [
    "You can use this notebook to visulalize the quantum correlators. You need to perform a semiclassical simulation (with or without backreaction) and store \"data\", and \"correlators\". It assumes that both data-types are saved at the same timestpes. If not, you need to modify appropriately."
   ]
  },
  {
   "cell_type": "code",
   "execution_count": null,
   "id": "f1fd4bd5",
   "metadata": {},
   "outputs": [],
   "source": [
    "# load packages\n",
    "using HDF5\n",
    "using LaTeXStrings\n",
    "using Plots ; pythonplot()\n",
    "using DelimitedFiles\n",
    "using SpecialFunctions\n",
    "using FunctionZeros\n",
    "using Interpolations\n",
    "using SpheriCo"
   ]
  },
  {
   "cell_type": "code",
   "execution_count": null,
   "id": "9c3f8f8e",
   "metadata": {},
   "outputs": [],
   "source": [
    "# give the directory where the data from all the runs are saved\n",
    "dir = \"../examples/quantum_runs/\"\n",
    "par = \"a0.4_b0.0_c4.0_rmax15.0_tmax7.0_cfl0.0625_sigma0.0_overMp2_25.132741228718345_reg_true_backreact_false_mPV100.0_dk_denom_15_kmax10.0_lmax30.0\"\n",
    "your_dir = dir*par"
   ]
  },
  {
   "cell_type": "code",
   "execution_count": null,
   "id": "ddb4caa1",
   "metadata": {},
   "outputs": [],
   "source": [
    "# set the number of grid points you used\n",
    "D = 3\n",
    "Nr = 128*2^D + 3\n",
    "\n",
    "# make directory to save figures\n",
    "out_dir = \"./correlators_tr/\"*par*\"/resol_D$(D)\"\n",
    "if ispath(out_dir)==false\n",
    "    mkpath(out_dir)\n",
    "end\n",
    "\n",
    "# load the r grid\n",
    "r = h5read(your_dir*\"/data_$(Nr)/r.h5\",\"r\")\n",
    "dr = r[2] - r[1]\n",
    "\n",
    "# list all available iterations (and corresponding files)\n",
    "(its, all_filenames)           = list_h5_files(your_dir*\"/data_$(Nr)\", prefix=\"data_\");\n",
    "(its_crlt, all_filenames_crlt) = list_h5_files(your_dir*\"/data_$(Nr)\", prefix=\"correlators_\");\n",
    "\n",
    "# classical data\n",
    "println(\"length(its)=\",length(its))\n",
    "println(\"its\",its)\n",
    "\n",
    "# correlators\n",
    "println(\"length(its_crlt)=\",length(its_crlt))\n",
    "println(\"its_crlt=\",its_crlt)"
   ]
  },
  {
   "cell_type": "markdown",
   "id": "544e36fa-6552-460f-9049-119755abbf84",
   "metadata": {},
   "source": [
    "Define a function to plot the real part of equal time correlators. The structure of the correlators is given before the function. You can modify it to plot the imaginary part"
   ]
  },
  {
   "cell_type": "code",
   "execution_count": null,
   "id": "71303892-80eb-42d5-9ab4-ff569bb18077",
   "metadata": {},
   "outputs": [],
   "source": [
    "\"\"\"\n",
    "for the correlators the format (r, r)\n",
    "    it is the 2pt function for the fields:\n",
    "    1) ∂t_utld_kl = r^l*α*πq/(B*A^0.5)\n",
    "    2) ∂r_utld_kl = l*r^(l-1)*uq + r^l*ψq\n",
    "    3) utld_kl = uq*r^l\n",
    "    4) πq\n",
    "    5) ψq\n",
    "\"\"\"\n",
    "\n",
    "function plot_crlt(it, crlt_i, ri_min, ri_max)\n",
    "\n",
    "    # if you have not saved data and correlators on the same timesteps\n",
    "    # you need to change it below, accordingly\n",
    "    it_data = its[it]\n",
    "    it_str_data  = lpad(it_data, 4, \"0\")\n",
    "    \n",
    "    it_crlt = its_crlt[it]\n",
    "    it_str_crlt  = lpad(it_crlt, 4, \"0\")\n",
    "    \n",
    "    v = h5read(your_dir*\"/data_$(Nr)/data_$(it_str_data).h5\",\"v\")\n",
    "    A  = v[:,4]\n",
    "    B  = v[:,5]\n",
    "    KB = v[:,9]\n",
    "    \n",
    "    crlt = h5read(your_dir*\"/data_$(Nr)/correlators_$(it_str_crlt).h5\",\"correlators\")\n",
    "    \n",
    "    # if there is an error when loading the time attribute, try to change \"./\" to \".\" or to \"/\" \n",
    "    t_data   =  h5readattr(your_dir*\"/data_$(Nr)/data_$(it_str_data).h5\", \"/\")[\"time\"]\n",
    "    t_crlt   =  h5readattr(your_dir*\"/data_$(Nr)/correlators_$(it_str_crlt).h5\", \"/\")[\"time\"]\n",
    "    \n",
    "    # checks if time instant is the same for all types of data\n",
    "    @assert t_data ≈ t_crlt\n",
    "\n",
    "    # change \"real\" -> \"imag\" below, if you want the imaginary part of the correlator\n",
    "    println(\"max(abs(real(crlt[$(crlt_i)]))) = \",maximum(abs.(real(crlt[ri_min:ri_max, ri_min:ri_max, crlt_i]))))\n",
    "    contourf(r[ri_min:ri_max], r[ri_min:ri_max], \n",
    "        # change \"real\" -> \"imag\" below, if you want the imaginary part of the correlator\n",
    "        real(crlt[ri_min:ri_max, ri_min:ri_max, crlt_i]),\n",
    "        color=:thermal,\n",
    "        wsize = (900,700),xaxis=\"r1\", yaxis=\"r2\",\n",
    "        #title = L\"\\mathcal{R}\\left[ C(r_1,r_2)\\right]\"*\" @ t=$(t_crlt)\",)\n",
    "        title = \"real(crlt[$(crlt_i)]) @t=$(t_crlt)\",)\n",
    "    AH = find_AH(r, B, A, KB)\n",
    "    plot!([AH], seriestype=\"vline\", label=\"AH\", linewidth=3, color = \"black\")\n",
    "    plot!([AH], seriestype=\"hline\", label=\"AH\", linewidth=3, color = \"black\")\n",
    "end"
   ]
  },
  {
   "cell_type": "code",
   "execution_count": null,
   "id": "0f47c275-1d30-4a29-9730-195c924944d0",
   "metadata": {},
   "outputs": [],
   "source": [
    "# index of min and max, in r domain\n",
    "ri_min = 3\n",
    "ri_max = 550 #Nr\n",
    "# timestep (counts within its_crlt list\n",
    "ti = 100\n",
    "# which correlator you want (see previous cell for the structure). There are 5 different (1-5).\n",
    "crlt_i = 3\n",
    "\n",
    "plt = plot_crlt(ti, crlt_i, ri_min, ri_max)\n",
    "# uncomment below if you want to save fig\n",
    "#savefig(plt, out_dir*\"/crlt_$(crlt_i)-$(ti).pdf\")"
   ]
  },
  {
   "cell_type": "markdown",
   "id": "5e9068e7-ee15-4765-b437-d5fa0ecc7bc5",
   "metadata": {},
   "source": [
    "The loop below plots the chosen correlator for all the saved timesteps, and saves if as pdf (you can also choose png)."
   ]
  },
  {
   "cell_type": "code",
   "execution_count": null,
   "id": "47fff431-171e-4835-bff6-ca33ecb498f8",
   "metadata": {},
   "outputs": [],
   "source": [
    "#crlt_i = 3\n",
    "#for i ∈ 1:length(its_crlt)\n",
    "#    plt = plot_crlt(i, crlt_i, ri_min, ri_max)\n",
    "#    savefig(plt, out_dir*\"/crlt_$(crlt_i)-$(i).pdf\")\n",
    "#end"
   ]
  },
  {
   "cell_type": "markdown",
   "id": "18ff271d-303d-4d40-bd5a-2f3c77260594",
   "metadata": {},
   "source": [
    "You can also plot the scalar field in time with the function below:"
   ]
  },
  {
   "cell_type": "code",
   "execution_count": null,
   "id": "66a3ca02-a95a-47d0-9ee8-e5817ee8ea43",
   "metadata": {},
   "outputs": [],
   "source": [
    "function plot_Φ(it, ri_min, ri_max)\n",
    "\n",
    "    it_data = its[it]\n",
    "    it_str_data  = lpad(it_data, 4, \"0\")\n",
    "    \n",
    "    v = h5read(your_dir*\"/data_$(Nr)/data_$(it_str_data).h5\",\"v\")\n",
    "    Φ  = v[:,1]\n",
    "    A  = v[:,4]\n",
    "    B  = v[:,5]\n",
    "    KB = v[:,9]\n",
    "        \n",
    "    # if there is an error when loading the time attribute, try to change \"./\" to \".\" or to \"/\" \n",
    "    t_data   =  h5readattr(your_dir*\"/data_$(Nr)/data_$(it_str_data).h5\", \"/\")[\"time\"]\n",
    "    \n",
    "    plot(r[ri_min:ri_max], Φ[ri_min:ri_max], title = \"t=$(t_data)\",\n",
    "        label = \"Φ(r)\", linewidth = 2, frame = true, wsize = (800,400),\n",
    "    xlim = (0,15), xlabel = \"r\")\n",
    "    \n",
    "    AH = find_AH(r, B, A, KB)\n",
    "    plot!([AH], seriestype=\"vline\", label=\"AH\", linewidth=2, color = \"black\", legendfontsize=13)\n",
    "end"
   ]
  },
  {
   "cell_type": "code",
   "execution_count": null,
   "id": "4486feb5-0a56-45ef-9054-e832c6948c26",
   "metadata": {},
   "outputs": [],
   "source": [
    "plot_Φ(100, 3, 1027)"
   ]
  },
  {
   "cell_type": "code",
   "execution_count": null,
   "id": "4ea7d58e-a457-4e58-94c5-3f62e539e908",
   "metadata": {},
   "outputs": [],
   "source": [
    "# uncomment if you want to save Phi(r) for each timestep (or tune which timsteps you want)\n",
    "\n",
    "#for i ∈ 1:length(its_crlt)\n",
    "#    plt = plot_Φ(i, 3, 1027)\n",
    "#    savefig(plt, out_dir*\"/Phi-$(i).pdf\")\n",
    "#end"
   ]
  }
 ],
 "metadata": {
  "kernelspec": {
   "display_name": "Julia 1.10.0",
   "language": "julia",
   "name": "julia-1.10"
  },
  "language_info": {
   "file_extension": ".jl",
   "mimetype": "application/julia",
   "name": "julia",
   "version": "1.10.0"
  }
 },
 "nbformat": 4,
 "nbformat_minor": 5
}
