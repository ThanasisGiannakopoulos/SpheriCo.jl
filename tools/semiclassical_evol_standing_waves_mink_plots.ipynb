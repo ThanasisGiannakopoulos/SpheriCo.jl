{
 "cells": [
  {
   "cell_type": "markdown",
   "id": "95aa0e50-c8c8-4d6a-ab54-8468fa4af7bd",
   "metadata": {},
   "source": [
    "Plot the norms calculated in \"semiclassical_evol_standing_waves_mink_norms.jl\"."
   ]
  },
  {
   "cell_type": "code",
   "execution_count": null,
   "id": "f1fd4bd5",
   "metadata": {},
   "outputs": [],
   "source": [
    "using HDF5\n",
    "using LaTeXStrings\n",
    "using Plots ; pythonplot()\n",
    "using Printf"
   ]
  },
  {
   "cell_type": "code",
   "execution_count": null,
   "id": "9c3f8f8e",
   "metadata": {},
   "outputs": [],
   "source": [
    "# give the directory where the data from all the runs are saved\n",
    "dir = \"./convergence_plots/standing_waves/\"\n",
    "par = \"rmax30.0_cfl0.0625_sigma0.0_amp0.0_width2.0_rc5.0_infalling_rmax_false_kmax10.0_lmax60.0_reg_true_backreact_false_mPV1.0\"\n",
    "in_dir = dir*par*\"/norms\"\n",
    "\n",
    "out_dir = dir*par*\"/plots/\"\n",
    "if ispath(out_dir)==false\n",
    "    mkpath(out_dir)\n",
    "end\n"
   ]
  },
  {
   "cell_type": "code",
   "execution_count": null,
   "id": "ddb4caa1",
   "metadata": {},
   "outputs": [],
   "source": [
    "# load timestep list and norms\n",
    "t_list = h5read(in_dir*\"/t_list.h5\",\"t_list\");\n",
    "norm2_604 = h5read(in_dir*\"/norm2_604.h5\",\"norm2\");\n",
    "norm2_all = h5read(in_dir*\"/norm2_all.h5\",\"norm2\");"
   ]
  },
  {
   "cell_type": "code",
   "execution_count": null,
   "id": "50761f1b-4c9e-4c25-bf8c-bc58da84efda",
   "metadata": {},
   "outputs": [],
   "source": [
    "# last timstep of the plot\n",
    "tf = 137\n",
    "\n",
    "plot(t_list[1:tf], sqrt.(norm2_604[1,1:tf]), label=L\"||\\mathbf{u}_{k \\, 60 \\, \\mu_5}||_2\", linewidth=2.8, style=:solid)\n",
    "plot!(t_list[1:tf], 4*sqrt.(norm2_604[2,1:tf]), label=L\"4 \\, ||\\mathbf{u}_{k \\, 60 \\, \\mu_5}||_3\", linewidth=2.6, style=:dash)\n",
    "p1 = plot!(t_list[1:tf], 4^2*sqrt.(norm2_604[3,1:tf]), label=L\"4^2 \\, ||\\mathbf{u}_{k \\, 60 \\, \\mu_5}||_4\", linewidth=2.4, style=:dot,\n",
    "    legend=:top, ylabel=\"rescaled norms\", frame=true, xlim=(0,8), xaxis=nothing, legendfontsize=10)#, ylim=(0, 10^-64))\n",
    "\n",
    "plot(t_list[1:tf], (sqrt.(norm2_604[1,1:tf]./norm2_604[2,1:tf])),\n",
    "    label=L\"||\\mathbf{u}_{k \\,60 \\, \\mu_5}||_2/||\\mathbf{u}_{k \\,60 \\, \\mu_5}||_3\", linewidth=2.8, style=:solid)\n",
    "plot!(t_list[1:tf], (sqrt.(norm2_604[2,1:tf]./norm2_604[3,1:tf])),\n",
    "    label=L\"||\\mathbf{u}_{k \\, 60 \\, \\mu_5}||_3/||\\mathbf{u}_{k \\,60 \\, \\mu_5}||_4\", linewidth=2.6, style=:dash)\n",
    "p2 = plot!(t_list[1:tf], 4.0*ones(length(t_list[1:tf])), label=\"ideal convergence rate\", linewidth=2.4, style=:dot,\n",
    "ylabel=\"convergence rate\", xlabel=\"time\", legend=:top, frame=true, grid=true, xlim=(0,8), legendfontsize=10)\n",
    "\n",
    "plt = plot(p1, p2, layout = grid(2, 1 ), wsize = (800,600))\n",
    "\n",
    "savefig(plt, out_dir*\"/norm2_604.pdf\")"
   ]
  },
  {
   "cell_type": "code",
   "execution_count": null,
   "id": "13dcbc9f-e5aa-43e9-933a-ae6a63a7f776",
   "metadata": {},
   "outputs": [],
   "source": [
    "tf = 171\n",
    "\n",
    "plot(t_list[1:tf], sqrt.(norm2_all[1,1:tf]), label=L\"||\\mathbf{u}_{k \\,l \\,\\mu}||_2\", linewidth=3, style=:solid)\n",
    "plot!(t_list[1:tf], 4*sqrt.(norm2_all[2,1:tf]), label=L\"4 \\, ||\\mathbf{u}_{k \\,l \\,\\mu}||_3\", linewidth=2.8, style=:dash)\n",
    "p1 = plot!(t_list[1:tf], 4^2*sqrt.(norm2_all[3,1:tf]), label=L\"4^2 \\, ||\\mathbf{u}_{k \\,l \\,\\mu}||_4\", linewidth=2.6, style=:dot,\n",
    "    legend=:topleft, ylabel=\"rescaled norms\", frame=true, legendfontsize=10, xaxis=nothing, grid=true, xlim=(0,10))#, ylim=(0, 10^-64))\n",
    "\n",
    "plot(t_list[1:tf], (sqrt.(norm2_all[1,1:tf]./norm2_all[2,1:tf])),\n",
    "    label=L\"||\\mathbf{u}_{k \\,l \\,\\mu}||_2/||\\mathbf{u}_{k \\,l \\,\\mu}||_3\", linewidth=3, style=:solid)\n",
    "plot!(t_list[1:tf], (sqrt.(norm2_all[2,1:tf]./norm2_all[3,1:tf])),\n",
    "    label=L\"||\\mathbf{u}_{k \\,l \\,\\mu}||_3/||\\mathbf{u}_{k\\, l \\,\\mu}||_4\", linewidth=2.6, style=:dash)\n",
    "p2 = plot!(t_list[1:tf], 4.0*ones(length(t_list[1:tf])), label=\"ideal convergence rate\", linewidth=2.4, style=:dot,\n",
    "ylabel=\"convergence rate\", xlabel=\"time\", legend=:bottom, frame=true, grid=true, legendfontsize=10, xlim=(0,10))\n",
    "\n",
    "plt = plot(p1, p2, layout = grid(2, 1 ),  wsize = (800,600))\n",
    "\n",
    "savefig(plt, out_dir*\"/norm2_all.pdf\")"
   ]
  },
  {
   "cell_type": "code",
   "execution_count": null,
   "id": "3e9e3c15-690e-4e5a-9b27-7158fcc1d95f",
   "metadata": {},
   "outputs": [],
   "source": []
  }
 ],
 "metadata": {
  "kernelspec": {
   "display_name": "Julia 1.10.0",
   "language": "julia",
   "name": "julia-1.10"
  },
  "language_info": {
   "file_extension": ".jl",
   "mimetype": "application/julia",
   "name": "julia",
   "version": "1.10.0"
  }
 },
 "nbformat": 4,
 "nbformat_minor": 5
}
