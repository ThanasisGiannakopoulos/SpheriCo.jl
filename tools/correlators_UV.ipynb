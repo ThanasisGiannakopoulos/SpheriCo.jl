{
 "cells": [
  {
   "cell_type": "markdown",
   "metadata": {},
   "source": [
    "Visualize the correlators in th UV coordinates. There is the option to look for U-U correlations (outgoing null direction, keep V fixed), and for V-V correlators (keep u fixed). You need to first run the postprocessing tool \"calculate_correlators_UV.jl\" for the same NU, NV. By default the V-V correlators are commented out.\n",
    "\n",
    "You need a semiclassical simulation (with or without backreaction) and store \"data\" and \"quantum\", at the same timesteps."
   ]
  },
  {
   "cell_type": "code",
   "execution_count": null,
   "metadata": {},
   "outputs": [],
   "source": [
    "# load packages\n",
    "using HDF5\n",
    "using LaTeXStrings\n",
    "using Plots ; pythonplot()\n",
    "using DelimitedFiles\n",
    "using SpheriCo"
   ]
  },
  {
   "cell_type": "code",
   "execution_count": null,
   "metadata": {},
   "outputs": [],
   "source": [
    "# give the directory where the data from all the runs are saved\n",
    "dir = \"../examples/quantum_runs/\"\n",
    "par = \"a0.4_b0.0_c4.0_rmax15.0_tmax7.0_cfl0.0625_sigma0.0_overMp2_25.132741228718345_reg_true_backreact_false_mPV200.0_dk_denom_15_kmax10.0_lmax30.0\"\n",
    "your_dir = dir*par\n",
    "\n",
    "# check if the UV domain (a bit further down) looks ok with that many points\n",
    "NU = 300 # index i, labels rows, where mat[i,j] is a matrix\n",
    "NV = 200; # index j, labels columns, where mat[i,j] is a matrix"
   ]
  },
  {
   "cell_type": "code",
   "execution_count": null,
   "metadata": {},
   "outputs": [],
   "source": [
    "# set number of radial grid points\n",
    "D = 3\n",
    "Nr = 128*2^D + 3 # the overal course graining\n",
    "\n",
    "# make directory to save figures\n",
    "out_dir = \"./correlators_UV/\"*par*\"/resol_D$(D)\"\n",
    "if ispath(out_dir)==false\n",
    "    mkpath(out_dir)\n",
    "end\n",
    "\n",
    "# load the r grid\n",
    "r = h5read(your_dir*\"/data_$(Nr)/r.h5\",\"r\")\n",
    "dr = r[2] - r[1]\n",
    "\n",
    "# list all available iterations (and corresponding files)\n",
    "(its, all_filenames) = list_h5_files(your_dir*\"/data_$(Nr)\", prefix=\"data_\");\n",
    "\n",
    "# you first need to run \"calculate_correlators_UV.jl\" with the same NU, NV.\n",
    "UU_crlt = h5read(your_dir*\"/data_$(Nr)/UU_crlt_NU$(NU).h5\",\"crlt\")\n",
    "#VV_crlt = h5read(your_dir*\"/data_$(Nr)/VV_crlt_NV$(NV).h5\",\"crlt\")\n",
    "\n",
    "# print list of data\n",
    "println(\"length(its) = \",length(its))\n",
    "println(\"its: \",its)"
   ]
  },
  {
   "cell_type": "markdown",
   "metadata": {},
   "source": [
    "Store various quantities in (t,r) coordinates. Needed to transfor to double null (U,V) coordinates."
   ]
  },
  {
   "cell_type": "code",
   "execution_count": null,
   "metadata": {},
   "outputs": [],
   "source": [
    "ti_max = length(its)\n",
    "\n",
    "U_tr = zeros(ti_max, length(r));\n",
    "V_tr = zeros(ti_max, length(r));\n",
    "f_tr = zeros(ti_max, length(r));\n",
    "g_tr = zeros(ti_max, length(r));\n",
    "\n",
    "Φ_tr = zeros(ti_max, length(r));\n",
    "\n",
    "α_tr  = zeros(ti_max, length(r));\n",
    "A_tr  = zeros(ti_max, length(r));\n",
    "B_tr  = zeros(ti_max, length(r));\n",
    "KB_tr = zeros(ti_max, length(r));\n",
    "\n",
    "for i in 1:ti_max\n",
    "    it = its[i]\n",
    "    it_str  = lpad(it, 4, \"0\")\n",
    "\n",
    "    #v_classic_labels = [\"Φ\", \"Π\", \"Ψ\", \"A\", \"B\", \"DB\", \"Utld\", \"K\", \"KB\", \"λ\", \"α\", \"Dα\", \"Θ\", \"Zr\", \"f\", \"g\", \"U\", \"V\"]\n",
    "    U   =  h5read(your_dir*\"/data_$(Nr)/data_$(it_str).h5\",\"v\")[:,17]\n",
    "    V   =  h5read(your_dir*\"/data_$(Nr)/data_$(it_str).h5\",\"v\")[:,18]\n",
    "    f   =  h5read(your_dir*\"/data_$(Nr)/data_$(it_str).h5\",\"v\")[:,15]\n",
    "    g   =  h5read(your_dir*\"/data_$(Nr)/data_$(it_str).h5\",\"v\")[:,16]\n",
    "    Φ   =  h5read(your_dir*\"/data_$(Nr)/data_$(it_str).h5\",\"v\")[:,1]\n",
    "    α   =  h5read(your_dir*\"/data_$(Nr)/data_$(it_str).h5\",\"v\")[:,11]\n",
    "    A   =  h5read(your_dir*\"/data_$(Nr)/data_$(it_str).h5\",\"v\")[:,4]\n",
    "    B   =  h5read(your_dir*\"/data_$(Nr)/data_$(it_str).h5\",\"v\")[:,5]\n",
    "    KB  =  h5read(your_dir*\"/data_$(Nr)/data_$(it_str).h5\",\"v\")[:,9]\n",
    "\n",
    "    U_tr[i,:] = U\n",
    "    V_tr[i,:] = V\n",
    "    f_tr[i,:] = f\n",
    "    g_tr[i,:] = g\n",
    "    Φ_tr[i,:] = Φ\n",
    "    α_tr[i,:]  = α\n",
    "    A_tr[i,:]  = A\n",
    "    B_tr[i,:]  = B\n",
    "    KB_tr[i,:] = KB\n",
    "\n",
    "end\n",
    "\n",
    "dtdU_tr = 0.5./(α_tr.*f_tr);\n",
    "drdU_tr = - 0.5./sqrt.(A_tr.*f_tr); # sometimes the quantity under sqrt is negative (problem).\n",
    "# You can check where, uncommenting the cell below.\n",
    "\n",
    "# set manually: 64 is how often (in iterations) we saved data, and 16 is from the CFL\n",
    "dt = 64*dr/16\n",
    "tlist = zeros(ti_max) # time list\n",
    "AH_t  = zeros(ti_max) # apparent horizon radius, in simulation time\n",
    "for i in 1:ti_max-1\n",
    "    tlist[i+1] = tlist[i]+dt\n",
    "    AH_t[i] = find_AH(r, B_tr[i,:], A_tr[i,:], KB_tr[i,:])\n",
    "end\n",
    "AH_t[end] = find_AH(r, B_tr[end,:], A_tr[end,:], KB_tr[end,:]);\n",
    "#println(tlist)\n",
    "#println(AH_t)"
   ]
  },
  {
   "cell_type": "code",
   "execution_count": null,
   "metadata": {},
   "outputs": [],
   "source": [
    "#for i in 1:ti_max\n",
    "#    for j in 1:Nr\n",
    "#        if (A_tr.*f_tr)[i,j] <0\n",
    "#            println(\"(i,j) = \", (i,j))\n",
    "#        end\n",
    "#    end\n",
    "#end"
   ]
  },
  {
   "cell_type": "markdown",
   "metadata": {},
   "source": [
    "Get the apparent horizon position in (t,r):"
   ]
  },
  {
   "cell_type": "code",
   "execution_count": null,
   "metadata": {},
   "outputs": [],
   "source": [
    "AH_tr = zeros(ti_max, length(r));\n",
    "for i in 1:ti_max\n",
    "    for j in 3:length(r)-1\n",
    "        if (r[j]+r[j+1])/2 - AH_t[i] ≈ 0\n",
    "            AH_tr[i,j] = 1\n",
    "            AH_tr[i,j-1] = 1\n",
    "            AH_tr[i,j-2] = 1\n",
    "            AH_tr[i,j+1] = 1\n",
    "            AH_tr[i,j+2] = 1\n",
    "        end\n",
    "    end\n",
    "end\n",
    "\n",
    "contourf(r[3:512], tlist, AH_tr[:,3:512],\n",
    "color=:thermal,\n",
    "wsize = (500,500),title = \"AH_tr\")"
   ]
  },
  {
   "cell_type": "markdown",
   "metadata": {},
   "source": [
    "Plot U and V coordinates against (t,r). "
   ]
  },
  {
   "cell_type": "code",
   "execution_count": null,
   "metadata": {},
   "outputs": [],
   "source": [
    "p1 = contourf(r[3:100], tlist, U_tr[:,3:100],\n",
    "color=:thermal,\n",
    "wsize = (500,500),title = L\"U(t,r)\", ylabel = \"t\", xlabel=\"r\")\n",
    "\n",
    "p2 = contourf(r[3:100], tlist, V_tr[:,3:100],\n",
    "color=:thermal,\n",
    "wsize = (500,500),title = L\"V(t,r)\", ylabel = \"t\", xlabel=\"r\")\n",
    "\n",
    "\n",
    "plot(p1, p2, layout = (1, 2), legend = false, wsize = (1000,500) )\n"
   ]
  },
  {
   "cell_type": "markdown",
   "metadata": {},
   "source": [
    "The algorithm to go form (t,r) to (U,V) involves the two cells below. First, setting up some necessary quantities, and initiating some arrays to save data in (U,V) coordinates."
   ]
  },
  {
   "cell_type": "code",
   "execution_count": null,
   "metadata": {},
   "outputs": [],
   "source": [
    "#take min max of U(t,r), and V(t,r)\n",
    "Umin = minimum(U_tr)\n",
    "Umax = maximum(U_tr)\n",
    "Vmin = minimum(V_tr)\n",
    "Vmax = maximum(V_tr)\n",
    "\n",
    "U_axis = zeros(NU)\n",
    "for i in 1:NU\n",
    "    U_axis[i] = Umin + (i-1)*(Umax - Umin)/(NU-1)\n",
    "end\n",
    "\n",
    "V_axis = zeros(NV)\n",
    "for j in 1:NV\n",
    "    V_axis[j] = Vmin + (j-1)*(Vmax - Vmin)/(NV-1)\n",
    "end\n",
    "\n",
    "dom      = NaN* zeros(NU,NV)\n",
    "AH_UV    = NaN* zeros(NU,NV)\n",
    "Φ_UV     = NaN* zeros(NU,NV)\n",
    "\n",
    "Umin = minimum(U_tr)\n",
    "Umax = maximum(U_tr)\n",
    "Vmin = minimum(V_tr)\n",
    "Vmax = maximum(V_tr)\n",
    "#println(Umin)\n",
    "#println(Umax)\n",
    "#println(Vmin)\n",
    "#println(Vmax)\n",
    "\n",
    "dU = (Umax - Umin)/(NU-1)\n",
    "#println(dU)\n",
    "dV = (Vmax - Vmin)/(NV-1);\n",
    "#println(dV)\n"
   ]
  },
  {
   "cell_type": "markdown",
   "metadata": {},
   "source": [
    "Check if the UV cell and the tr cell have overlap, and if yes, copy the tr data to UV. \n",
    "(more details on thi algorithm, in the paper)"
   ]
  },
  {
   "cell_type": "code",
   "execution_count": null,
   "metadata": {},
   "outputs": [],
   "source": [
    "# new\n",
    "for i in 1:ti_max#length(tlist)\n",
    "    for j in 1:length(r)\n",
    "        Utr     = U_tr[i,j]\n",
    "        Vtr     = V_tr[i,j]\n",
    "        Φtr     = Φ_tr[i,j]\n",
    "        AHtr    = AH_tr[i,j]\n",
    "        \n",
    "        idown  = Int( round( 1 + (NU - 1)*(Utr - Umin)/(Umax - Umin) ) )\n",
    "        jleft  = Int( round( 1 + (NV - 1)*(Vtr - Vmin)/(Vmax - Vmin) ) )\n",
    "\n",
    "        if jleft < NV\n",
    "            jright = jleft + 1\n",
    "        else\n",
    "            jright = jleft\n",
    "        end\n",
    "        if idown < NU\n",
    "            iup =  idown + 1\n",
    "        else\n",
    "            iup =  idown\n",
    "        end\n",
    "        #println(\"iup=\",iup)\n",
    "        #println(\"idown=\",idown)\n",
    "        #println(\"jleft=\",jleft)\n",
    "        #println(\"jright=\",jright)\n",
    "\n",
    "        dom[idown, jleft]  = 1\n",
    "        dom[iup, jleft]    = 1\n",
    "        dom[idown, jright] = 1\n",
    "        dom[iup, jright]   = 1\n",
    "        \n",
    "        Φ_UV[idown, jleft]  = Φtr\n",
    "        Φ_UV[iup, jleft]    = Φtr\n",
    "        Φ_UV[idown, jright] = Φtr\n",
    "        Φ_UV[iup, jright]   = Φtr\n",
    "   \n",
    "        AH_UV[idown, jleft]  = AHtr\n",
    "        AH_UV[iup, jleft]    = AHtr\n",
    "        AH_UV[idown, jright] = AHtr\n",
    "        AH_UV[iup, jright]   = AHtr\n",
    "\n",
    "    end\n",
    "end\n"
   ]
  },
  {
   "cell_type": "markdown",
   "metadata": {},
   "source": [
    "The simulation domain in UV coordinates. If you use too few or too many NU, NV points, it might look bad. Adjust if needed."
   ]
  },
  {
   "cell_type": "code",
   "execution_count": null,
   "metadata": {},
   "outputs": [],
   "source": [
    "contourf(V_axis, U_axis, dom[:,:],\n",
    "    xlabel = \"V\",\n",
    "    ylabel = \"U\",\n",
    "    color=:thermal,\n",
    "    wsize = (500,500),title = \"domain\", frame=true)"
   ]
  },
  {
   "cell_type": "markdown",
   "metadata": {},
   "source": [
    "The position of the apparent horizon, in UV."
   ]
  },
  {
   "cell_type": "code",
   "execution_count": null,
   "metadata": {},
   "outputs": [],
   "source": [
    "contourf(V_axis, U_axis, AH_UV,\n",
    "    xlabel = \"V\",\n",
    "    ylabel = \"U\",\n",
    "    color=:thermal,\n",
    "    wsize = (500,500),title = \"domain\", frame=true)\n"
   ]
  },
  {
   "cell_type": "markdown",
   "metadata": {},
   "source": [
    "Store the apparent horizon in U,V, as lists. Useful for later."
   ]
  },
  {
   "cell_type": "code",
   "execution_count": null,
   "metadata": {},
   "outputs": [],
   "source": [
    "AH_U = [];\n",
    "AH_V = [];\n",
    "for i in 1:NU\n",
    "    for j in 1:NV\n",
    "        if AH_UV[i,j]==1\n",
    "            append!(AH_U, U_axis[i])\n",
    "            append!(AH_V, V_axis[j])\n",
    "        end\n",
    "    end\n",
    "end\n",
    "#println(AH_U)\n",
    "#println(AH_V)"
   ]
  },
  {
   "cell_type": "code",
   "execution_count": null,
   "metadata": {},
   "outputs": [],
   "source": [
    "# scan the lists and place AH_V in increasing number; and follow the same flipts in AH_U\n",
    "test=true\n",
    "while test==true\n",
    "    for i in 2:length(AH_V)\n",
    "        if AH_V[i] < AH_V[i-1]\n",
    "            temp1 = AH_V[i-1]\n",
    "            AH_V[i-1] = AH_V[i]\n",
    "            AH_V[i] = temp1\n",
    "            temp2 = AH_U[i-1]\n",
    "            AH_U[i-1] = AH_U[i]\n",
    "            AH_U[i] = temp2\n",
    "        end\n",
    "    end\n",
    "    j = 2\n",
    "    while AH_V[j] >= AH_V[j-1] && j<length(AH_V)\n",
    "        j+=1\n",
    "        #println(j)\n",
    "    end\n",
    "    if j==length(AH_V)\n",
    "        test = false\n",
    "        #println(test)\n",
    "    end\n",
    "    #println(\"end of permutation\")\n",
    "end\n",
    "\n",
    "#println(AH_U)\n",
    "#println(AH_V)"
   ]
  },
  {
   "cell_type": "markdown",
   "metadata": {},
   "source": [
    "The loop below inspects the location of AH in U,V. It might oscillate, but this is probably an artifact of postprocessing (and lack or resolution)."
   ]
  },
  {
   "cell_type": "code",
   "execution_count": null,
   "metadata": {},
   "outputs": [],
   "source": [
    "#for i in 1:length(AH_V)\n",
    "#    println(\"i, V, U = \", (i, AH_V[i], AH_U[i]))\n",
    "#end"
   ]
  },
  {
   "cell_type": "markdown",
   "metadata": {},
   "source": [
    "Plot the scalar field that drives the collapse, in (U,V). It helps to understand what type of correlators we are looking for. In the example below, the vertical black line is a possible slice in which we inspect the U-U correlator."
   ]
  },
  {
   "cell_type": "code",
   "execution_count": null,
   "metadata": {
    "scrolled": true
   },
   "outputs": [],
   "source": [
    "# set manually the NU, NV reange you want to plot, below\n",
    "ui = 1\n",
    "uj = 300\n",
    "vi = 1\n",
    "vj = 200\n",
    "\n",
    "p = contourf(V_axis[vi:vj], U_axis[ui:uj], (Φ_UV[ui:uj,vi:vj]),\n",
    "        xlabel = \"V\",\n",
    "        ylabel = \"U\",\n",
    "        color=:thermal,\n",
    "        wsize = (700,700),title = L\"\\Phi(U,V)\",\n",
    "        frame =true)\n",
    "p = scatter!((AH_V, AH_U),label=\"AH(U,V)\", markerstrokewidth=0, mc=:green, ms=3)\n",
    "\n",
    "p = plot!([V_axis[100]], seriestype=\"vline\", label=\"\", linewidth=1.5, color = \"black\")\n",
    "\n",
    "# uncomment if you want to save fig\n",
    "#savefig(p, out_dir*\"/Phi_UV.pdf\")"
   ]
  },
  {
   "cell_type": "markdown",
   "metadata": {},
   "source": [
    "U-U correlators:"
   ]
  },
  {
   "cell_type": "code",
   "execution_count": null,
   "metadata": {},
   "outputs": [],
   "source": [
    "# this is the index we slice in V_axis\n",
    "vi  = 100\n",
    "\n",
    "# these are the first and last points we plot in u_axis\n",
    "i = 160\n",
    "j = 240\n",
    "\n",
    "# set this manually, it has to be the one (or more than one due to numerical error) index that corresponds to the slice we chose\n",
    "findall(x->x == V_axis[vi], AH_V)"
   ]
  },
  {
   "cell_type": "code",
   "execution_count": null,
   "metadata": {},
   "outputs": [],
   "source": [
    "# check the output of the cell above\n",
    "ah_vi = 68\n",
    "\n",
    "contourf(U_axis[i:j], U_axis[i:j], real.(UU_crlt[vi,i:j,i:j]),\n",
    "    title=\"U-U correlator @ V = $(V_axis[vi])\",\n",
    "    xlabel = \"U\",\n",
    "    ylabel = \"U\",\n",
    "    color=:thermal,\n",
    "    wsize = (700,700),\n",
    "    frame=true)\n",
    "\n",
    "plot!([AH_U[ah_vi]], seriestype=\"vline\", label=\"AH\", linewidth=3, color = \"black\")\n",
    "p = plot!([AH_U[ah_vi]], seriestype=\"hline\", label=\"AH\", linewidth=3, color = \"black\", legend=:topleft)\n",
    "\n",
    "# uncomment if you want to save fig\n",
    "#savefig(p, out_dir*\"/UU_crlt_V_$(AH_V[ah_vi]).pdf\")"
   ]
  },
  {
   "cell_type": "markdown",
   "metadata": {},
   "source": [
    "V-V correlators, below (uncomment). Remember that the horizon is an outgoing null hypersurface (that is a hypersurface of fixed V, in theory). "
   ]
  },
  {
   "cell_type": "code",
   "execution_count": null,
   "metadata": {},
   "outputs": [],
   "source": [
    "## this is the index we slice in V_axis\n",
    "#ui  = 100\n",
    "## these are the first and last points we plot in u_axis\n",
    "#i = 160\n",
    "#j = 240\n",
    "## set this manually, it has to be the one (or more than one due to numerical error) index that corresponds to teh slice we chose\n",
    "#findall(x->x == U_axis[ui], AH_U)"
   ]
  },
  {
   "cell_type": "code",
   "execution_count": null,
   "metadata": {},
   "outputs": [],
   "source": [
    "## check the output of the cell above\n",
    "#ah_ui = 1\n",
    "\n",
    "#contourf(V_axis[i:j], V_axis[i:j], real.(VV_crlt[ui,i:j,i:j]),\n",
    "#    title=\"V-V correlator @ U = $(U_axis[ui])\",\n",
    "#    xlabel = \"V\",\n",
    "#    ylabel = \"V\",\n",
    "#    color=:thermal,\n",
    "#    wsize = (500,500))\n",
    "\n",
    "#plot!([AH_V[ah_ui]], seriestype=\"vline\", label=\"AH\", linewidth=3, color = \"black\")\n",
    "#plot!([AH_V[ah_ui]], seriestype=\"hline\", label=\"AH\", linewidth=3, color = \"black\")"
   ]
  }
 ],
 "metadata": {
  "kernelspec": {
   "display_name": "Julia 1.10.0",
   "language": "julia",
   "name": "julia-1.10"
  },
  "language_info": {
   "file_extension": ".jl",
   "mimetype": "application/julia",
   "name": "julia",
   "version": "1.10.0"
  }
 },
 "nbformat": 4,
 "nbformat_minor": 4
}
