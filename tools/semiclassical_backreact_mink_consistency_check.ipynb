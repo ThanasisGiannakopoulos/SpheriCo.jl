{
 "cells": [
  {
   "cell_type": "markdown",
   "id": "b65f640e-a443-495c-8013-52fe043d7e59",
   "metadata": {},
   "source": [
    "Simulate Minkowski with backreaction, as a consistency check. Perform simulations with different Pauli-Villars mass, and for each choice of mass, perform simulations with increasing kmax, and lmax. The expectation is that with more quantum modes evolved, the solution will be closer to Minkowski. To quantify that we construct L2 norms of the solutions (the classical state vector), minus the Minkowski solution.\n",
    "\n",
    "You need to run with backreaction and save \"data\"."
   ]
  },
  {
   "cell_type": "code",
   "execution_count": null,
   "id": "f1fd4bd5",
   "metadata": {},
   "outputs": [],
   "source": [
    "using HDF5\n",
    "using LaTeXStrings\n",
    "using Plots ; pythonplot()\n",
    "using DelimitedFiles\n",
    "using SpheriCo"
   ]
  },
  {
   "cell_type": "code",
   "execution_count": null,
   "id": "9c3f8f8e",
   "metadata": {},
   "outputs": [],
   "source": [
    "# give the directory where the data from all the runs are saved\n",
    "dir = \"../examples/quantum_runs/\"\n",
    "\n",
    "par1 = \"a0.0_b0.0_c1.0_rmax30.0_tmax10.0_cfl0.0625_sigma0.0_overMp2_0.9999889550967277_reg_true_backreact_true_rcut20.0_mPV0.1_dk_denom_30_kmax5.0_lmax15.0\"\n",
    "par2 = \"a0.0_b0.0_c1.0_rmax30.0_tmax10.0_cfl0.0625_sigma0.0_overMp2_0.9999889550967277_reg_true_backreact_true_rcut20.0_mPV0.1_dk_denom_30_kmax10.0_lmax30.0\"\n",
    "par3 = \"a0.0_b0.0_c1.0_rmax30.0_tmax10.0_cfl0.0625_sigma0.0_overMp2_0.9999889550967277_reg_true_backreact_true_rcut20.0_mPV0.1_dk_denom_30_kmax20.0_lmax60.0\"\n",
    "\n",
    "par4 = \"a0.0_b0.0_c1.0_rmax30.0_tmax10.0_cfl0.0625_sigma0.0_overMp2_0.9988967160535545_reg_true_backreact_true_rcut20.0_mPV1.0_dk_denom_30_kmax5.0_lmax15.0\"\n",
    "par5 = \"a0.0_b0.0_c1.0_rmax30.0_tmax10.0_cfl0.0625_sigma0.0_overMp2_0.9988967160535545_reg_true_backreact_true_rcut20.0_mPV1.0_dk_denom_30_kmax10.0_lmax30.0\"\n",
    "par6 = \"a0.0_b0.0_c1.0_rmax30.0_tmax10.0_cfl0.0625_sigma0.0_overMp2_0.9988967160535545_reg_true_backreact_true_rcut20.0_mPV1.0_dk_denom_30_kmax20.0_lmax60.0\"\n",
    "\n",
    "par7 = \"a0.0_b0.0_c1.0_rmax30.0_tmax10.0_cfl0.0625_sigma0.0_overMp2_0.9956014228528787_reg_true_backreact_true_rcut20.0_mPV2.0_dk_denom_30_kmax5.0_lmax15.0\"\n",
    "par8 = \"a0.0_b0.0_c1.0_rmax30.0_tmax10.0_cfl0.0625_sigma0.0_overMp2_0.9956014228528787_reg_true_backreact_true_rcut20.0_mPV2.0_dk_denom_30_kmax10.0_lmax30.0\"\n",
    "par9 = \"a0.0_b0.0_c1.0_rmax30.0_tmax10.0_cfl0.0625_sigma0.0_overMp2_0.9956014228528787_reg_true_backreact_true_rcut20.0_mPV2.0_dk_denom_30_kmax20.0_lmax60.0\"\n",
    "\n",
    "dir1 = dir*par1\n",
    "dir2 = dir*par2\n",
    "dir3 = dir*par3\n",
    "\n",
    "dir4 = dir*par4\n",
    "dir5 = dir*par5\n",
    "dir6 = dir*par6\n",
    "\n",
    "dir7 = dir*par7\n",
    "dir8 = dir*par8\n",
    "dir9 = dir*par9\n",
    "\n",
    "# same for all dirs\n",
    "D = 3\n",
    "Nr = 128*2^D + 3 # the overal course graining\n",
    "# load the r grid\n",
    "r = h5read(dir1*\"/data_$(Nr)/r.h5\",\"r\")\n",
    "dr = r[2] - r[1]\n",
    "\n",
    "out_dir = \"./convergence_plots/minkowski_backreaction/\"\n",
    "if ispath(out_dir)==false\n",
    "    mkpath(out_dir)\n",
    "end"
   ]
  },
  {
   "cell_type": "markdown",
   "id": "2fb4d3b2-783e-4830-b22e-1eea41aa5694",
   "metadata": {},
   "source": [
    "List the timesteps in all three batches."
   ]
  },
  {
   "cell_type": "code",
   "execution_count": null,
   "id": "ddb4caa1",
   "metadata": {},
   "outputs": [],
   "source": [
    "# list all available iterations (and corresponding files)\n",
    "(its1, all_filenames1) = list_h5_files(dir1*\"/data_$(Nr)\", prefix=\"data_\");\n",
    "(its2, all_filenames2) = list_h5_files(dir2*\"/data_$(Nr)\", prefix=\"data_\");\n",
    "(its3, all_filenames3) = list_h5_files(dir3*\"/data_$(Nr)\", prefix=\"data_\");\n",
    "\n",
    "(its4, all_filenames4) = list_h5_files(dir4*\"/data_$(Nr)\", prefix=\"data_\");\n",
    "(its5, all_filenames5) = list_h5_files(dir5*\"/data_$(Nr)\", prefix=\"data_\");\n",
    "(its6, all_filenames6) = list_h5_files(dir6*\"/data_$(Nr)\", prefix=\"data_\");\n",
    "\n",
    "(its7, all_filenames7) = list_h5_files(dir7*\"/data_$(Nr)\", prefix=\"data_\");\n",
    "(its8, all_filenames8) = list_h5_files(dir8*\"/data_$(Nr)\", prefix=\"data_\");\n",
    "(its9, all_filenames9) = list_h5_files(dir9*\"/data_$(Nr)\", prefix=\"data_\");\n",
    "\n",
    "println(\"length(its3)=\",length(its3))\n",
    "#println(\"its1\",its1)\n",
    "\n",
    "println(\"length(its6)=\",length(its6))\n",
    "#println(\"its4\",its4)\n",
    "\n",
    "println(\"length(its9)=\",length(its9))\n",
    "#println(\"its7\",its7)\n"
   ]
  },
  {
   "cell_type": "markdown",
   "id": "b9b137c0-6d4d-48f3-a58c-a26803a9db60",
   "metadata": {},
   "source": [
    "Function to construct the L2 norm of the error."
   ]
  },
  {
   "cell_type": "code",
   "execution_count": null,
   "id": "3e660ca8-ac41-4ebf-9c25-3b537710dbae",
   "metadata": {},
   "outputs": [],
   "source": [
    "#v=[\"Φ\", \"Π\", \"Ψ\", \"A\", \"B\", \"DB\", \"Utld\", \"K\", \"KB\", \"λ\", \"α\", \"Dα\", \"Θ\", \"Zr\", \"f\", \"g\", \"U\", \"V\"]\n",
    "# norm2 has size (number_of_different_resols, number_of_saved_timesteps)\n",
    "function norm2(norm2, ri_max, ddir1, ddir2, ddir3)\n",
    "\n",
    "    (its1, all_filenames1) = list_h5_files(ddir1*\"/data_$(Nr)\", prefix=\"data_\");\n",
    "    (its2, all_filenames2) = list_h5_files(ddir2*\"/data_$(Nr)\", prefix=\"data_\");\n",
    "    (its3, all_filenames3) = list_h5_files(ddir3*\"/data_$(Nr)\", prefix=\"data_\");\n",
    "    \n",
    "    for i in 1:length(its3)\n",
    "\n",
    "        it_data1 = its1[i]\n",
    "        it_str_data1  = lpad(it_data1, 4, \"0\")\n",
    "        v1 = h5read(ddir1*\"/data_$(Nr)/data_$(it_str_data1).h5\",\"v\")\n",
    "        t1 =  h5readattr(ddir1*\"/data_$(Nr)/data_$(it_str_data1).h5\", \"/\")[\"time\"]\n",
    "        \n",
    "        it_data2 = its2[i]\n",
    "        it_str_data2  = lpad(it_data2, 4, \"0\")\n",
    "        v2 = h5read(ddir2*\"/data_$(Nr)/data_$(it_str_data2).h5\",\"v\")\n",
    "        t2 =  h5readattr(ddir2*\"/data_$(Nr)/data_$(it_str_data2).h5\", \"/\")[\"time\"]\n",
    "\n",
    "        it_data3 = its3[i]\n",
    "        it_str_data3  = lpad(it_data3, 4, \"0\")\n",
    "        v3 = h5read(ddir3*\"/data_$(Nr)/data_$(it_str_data3).h5\",\"v\")\n",
    "        t3 =  h5readattr(ddir3*\"/data_$(Nr)/data_$(it_str_data3).h5\", \"/\")[\"time\"]\n",
    "        \n",
    "        # checks if time instant is the same for all types of data\n",
    "        @assert t1 ≈ t2 ≈ t3\n",
    "\n",
    "        #A\n",
    "        A1 = v1[3:ri_max, 4] .- ones(length(r[3:ri_max])) \n",
    "        A2 = v2[3:ri_max, 4] .- ones(length(r[3:ri_max]))\n",
    "        A3 = v3[3:ri_max, 4] .- ones(length(r[3:ri_max]))\n",
    "        #B\n",
    "        B1 = v1[3:ri_max, 5] .- ones(length(r[3:ri_max])) \n",
    "        B2 = v2[3:ri_max, 5] .- ones(length(r[3:ri_max]))\n",
    "        B3 = v3[3:ri_max, 5] .- ones(length(r[3:ri_max]))\n",
    "        #DB\n",
    "        DB1 = v1[3:ri_max, 6] \n",
    "        DB2 = v2[3:ri_max, 6]\n",
    "        DB3 = v3[3:ri_max, 6]\n",
    "        #Utld\n",
    "        Utld1 = v1[3:ri_max, 7] \n",
    "        Utld2 = v2[3:ri_max, 7]\n",
    "        Utld3 = v3[3:ri_max, 7]\n",
    "        #K\n",
    "        K1 = v1[3:ri_max, 8] \n",
    "        K2 = v2[3:ri_max, 8]\n",
    "        K3 = v3[3:ri_max, 8]\n",
    "        #DB\n",
    "        KB1 = v1[3:ri_max, 9] \n",
    "        KB2 = v2[3:ri_max, 9]\n",
    "        KB3 = v3[3:ri_max, 9]\n",
    "        #λ\n",
    "        λ1 = v1[3:ri_max, 10] \n",
    "        λ2 = v2[3:ri_max, 10]\n",
    "        λ3 = v3[3:ri_max, 10]\n",
    "        #α\n",
    "        α1 = v1[3:ri_max, 11] .- ones(length(r[3:ri_max])) \n",
    "        α2 = v2[3:ri_max, 11] .- ones(length(r[3:ri_max]))\n",
    "        α3 = v3[3:ri_max, 11] .- ones(length(r[3:ri_max]))\n",
    "        #Dα\n",
    "        Dα1 = v1[3:ri_max, 12] \n",
    "        Dα2 = v2[3:ri_max, 12]\n",
    "        Dα3 = v3[3:ri_max, 12]\n",
    "\n",
    "        # norm2 = Sum(A^2 + B^2 + DB^2 + Utld^2 + K^2 + KB^2 + λ^2 + α^2 + Dα^2)*dr\n",
    "        # where each variable above is understood as its difference from its Minkowski value\n",
    "        norm2[1, i] = norm2[1, i] + dr*sum(A1.^2 .+ B1.^2 .+ DB1.^2 .+ Utld1.^2 .+ K1.^2 .+ KB1.^2 .+ λ1.^2 .+ α1.^2 + Dα1.^2)\n",
    "        norm2[2, i] = norm2[2, i] + dr*sum(A2.^2 .+ B2.^2 .+ DB2.^2 .+ Utld2.^2 .+ K2.^2 .+ KB2.^2 .+ λ2.^2 .+ α2.^2 + Dα2.^2)\n",
    "        norm2[3, i] = norm2[3, i] + dr*sum(A3.^2 .+ B3.^2 .+ DB3.^2 .+ Utld3.^2 .+ K3.^2 .+ KB3.^2 .+ λ3.^2 .+ α3.^2 + Dα3.^2)\n",
    "\n",
    "    end # i loop\n",
    "\n",
    "    return norm2\n",
    "end"
   ]
  },
  {
   "cell_type": "markdown",
   "id": "655c653f-4277-4b17-829d-eba9ca1aa4cd",
   "metadata": {},
   "source": [
    "List of timesteps where data are saved, for the longest simulation."
   ]
  },
  {
   "cell_type": "code",
   "execution_count": null,
   "id": "c40c6d11-cf23-429e-8232-1ec904eb3c0c",
   "metadata": {},
   "outputs": [],
   "source": [
    "t_list = zeros(length(its1))\n",
    "for i in 1:length(its1)\n",
    "    it_data1 = its1[i]\n",
    "    it_str_data1  = lpad(it_data1, 4, \"0\")\n",
    "    t1 =  h5readattr(dir1*\"/data_$(Nr)/data_$(it_str_data1).h5\", \"/\")[\"time\"]\n",
    "    t_list[i] = t1\n",
    "end\n",
    "println(\"t_list = \", t_list)"
   ]
  },
  {
   "cell_type": "markdown",
   "id": "a4cb59b1-f0fe-4d15-9cbd-0c7ac62a2f86",
   "metadata": {},
   "source": [
    "ri_max is the index of the radial grid, until which you want to perform the comparison. Take care of which part is simulated well with backreaction included."
   ]
  },
  {
   "cell_type": "code",
   "execution_count": null,
   "id": "59b8be9a-3750-483a-9f9e-48bc2c16203e",
   "metadata": {},
   "outputs": [],
   "source": [
    "ri_max = 345\n",
    "println(\"r[ri_max] = \", r[ri_max])"
   ]
  },
  {
   "cell_type": "markdown",
   "id": "25bb64a6-dd92-4b86-9039-5e8dc332a616",
   "metadata": {},
   "source": [
    "Calculate L2 norms of errors (deviation of numerical solution from Minkowski)."
   ]
  },
  {
   "cell_type": "code",
   "execution_count": null,
   "id": "00b54941-c2b5-4c72-82f2-178c60e99b88",
   "metadata": {},
   "outputs": [],
   "source": [
    "# M_PV = 0.1\n",
    "norm2_all_MPV01 = zeros(3, length(its3))\n",
    "norm2_all_MPV01 = norm2(norm2_all_MPV01, ri_max, dir1, dir2, dir3)\n",
    "\n",
    "# M_PV = 1\n",
    "norm2_all_MPV1 = zeros(3, length(its6))\n",
    "norm2_all_MPV1 = norm2(norm2_all_MPV1, ri_max, dir4, dir5, dir6)\n",
    "\n",
    "# M_PV = 2\n",
    "norm2_all_MPV2 = zeros(3, length(its9))\n",
    "norm2_all_MPV2 = norm2(norm2_all_MPV2, ri_max, dir7, dir8, dir9)"
   ]
  },
  {
   "cell_type": "markdown",
   "id": "6de7d7c6-5bde-4a22-a4b5-78a9dc15c01d",
   "metadata": {},
   "source": [
    "Plot the deviations:"
   ]
  },
  {
   "cell_type": "code",
   "execution_count": null,
   "id": "110bd458-3d4f-46ef-9968-7fa57924873f",
   "metadata": {},
   "outputs": [],
   "source": [
    "# M_PV = 0.1\n",
    "ti1 = 2\n",
    "tf1 = length(its3)\n",
    "plot(t_list[ti1:tf1], sqrt.(norm2_all_MPV01[1,ti1:tf1]), label = L\"|| \\mathbf{u}||_{5, 15, 0.1}\",\n",
    "    linewidth = 2.8)\n",
    "plot!(t_list[ti1:tf1], sqrt.(norm2_all_MPV01[2,ti1:tf1]), label = L\"|| \\mathbf{u}||_{10, 30, 0.1}\",\n",
    "    linewidth = 2.6, style=:dash)\n",
    "p1 = plot!(t_list[ti1:tf1], sqrt.(norm2_all_MPV01[3,ti1:tf1]), label = L\"|| \\mathbf{u}||_{20, 60, 0.1}\", \n",
    "    linewidth = 2.4, frame = true, style=:dot,\n",
    "    legend=:topleft,  ylabel=\"norms\", xaxis=nothing, legendfontsize=10, xlim=(0,9.96))\n",
    "\n",
    "# M_PV = 1\n",
    "ti2 = 2\n",
    "tf2 = length(its6)\n",
    "plot(t_list[ti2:tf2], sqrt.(norm2_all_MPV1[1,ti2:tf2]), label = L\"|| \\mathbf{u}||_{5, 15, 1}\",\n",
    "    linewidth = 2.8)\n",
    "plot!(t_list[ti2:tf2], sqrt.(norm2_all_MPV1[2,ti2:tf2]), label = L\"|| \\mathbf{u}||_{10, 30, 1}\",\n",
    "    linewidth = 2.6, style=:dash)\n",
    "p2 = plot!(t_list[ti2:tf2], sqrt.(norm2_all_MPV1[3,ti2:tf2]), label = L\"|| \\mathbf{u}||_{20, 60, 1}\", \n",
    "    linewidth = 2.4, frame = true, style=:dot,\n",
    "    legend=:topleft,  ylabel=\"norms\", legendfontsize=10, xlim=(0,9.96), xaxis=nothing,)\n",
    "\n",
    "# M_PV = 2\n",
    "ti2 = 2\n",
    "tf2 = length(its9)\n",
    "plot(t_list[ti2:tf2], sqrt.(norm2_all_MPV2[1,ti2:tf2]), label = L\"|| \\mathbf{u}||_{5, 15, 2}\",\n",
    "    linewidth = 2.8)\n",
    "plot!(t_list[ti2:tf2], sqrt.(norm2_all_MPV2[2,ti2:tf2]), label = L\"|| \\mathbf{u}||_{10, 30, 2}\",\n",
    "    linewidth = 2.6, style=:dash)\n",
    "p3 = plot!(t_list[ti2:tf2], sqrt.(norm2_all_MPV2[3,ti2:tf2]), label = L\"|| \\mathbf{u}||_{20, 60, 2}\", \n",
    "    linewidth = 2.4, frame = true, style=:dot,\n",
    "    legend=:topleft,  ylabel=\"norms\", xlabel=\"time\", legendfontsize=10, xlim=(0,9.96))\n",
    "\n",
    "plt = plot(p1, p2, p3, layout = grid(3, 1 ), wsize = (800,500))\n",
    "\n",
    "savefig(plt, out_dir*\"/norms_all.pdf\")"
   ]
  },
  {
   "cell_type": "code",
   "execution_count": null,
   "id": "895f18ed-905e-4574-8b36-f9326363a5c2",
   "metadata": {},
   "outputs": [],
   "source": []
  }
 ],
 "metadata": {
  "kernelspec": {
   "display_name": "Julia 1.10.0",
   "language": "julia",
   "name": "julia-1.10"
  },
  "language_info": {
   "file_extension": ".jl",
   "mimetype": "application/julia",
   "name": "julia",
   "version": "1.10.0"
  }
 },
 "nbformat": 4,
 "nbformat_minor": 5
}
